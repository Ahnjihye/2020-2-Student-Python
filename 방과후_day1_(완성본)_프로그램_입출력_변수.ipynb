{
  "nbformat": 4,
  "nbformat_minor": 0,
  "metadata": {
    "colab": {
      "name": "방과후 day1 (완성본). 프로그램/입출력/변수.ipynb",
      "provenance": [],
      "collapsed_sections": [],
      "authorship_tag": "ABX9TyNEVr1p02GrU0kotNvU8cpZ",
      "include_colab_link": true
    },
    "kernelspec": {
      "name": "python3",
      "display_name": "Python 3"
    }
  },
  "cells": [
    {
      "cell_type": "markdown",
      "metadata": {
        "id": "view-in-github",
        "colab_type": "text"
      },
      "source": [
        "<a href=\"https://colab.research.google.com/github/Ahnjihye/2020-2-Student-Python/blob/main/%EB%B0%A9%EA%B3%BC%ED%9B%84_day1_(%EC%99%84%EC%84%B1%EB%B3%B8)_%ED%94%84%EB%A1%9C%EA%B7%B8%EB%9E%A8_%EC%9E%85%EC%B6%9C%EB%A0%A5_%EB%B3%80%EC%88%98.ipynb\" target=\"_parent\"><img src=\"https://colab.research.google.com/assets/colab-badge.svg\" alt=\"Open In Colab\"/></a>"
      ]
    },
    {
      "cell_type": "markdown",
      "metadata": {
        "id": "Cr2WZav4DeMU"
      },
      "source": [
        "# 1. 인공지능 알아보기"
      ]
    },
    {
      "cell_type": "markdown",
      "metadata": {
        "id": "ZhrhgjyuB9_C"
      },
      "source": [
        "### 1) 인공지능이란?"
      ]
    },
    {
      "cell_type": "markdown",
      "metadata": {
        "id": "bSBf8UToGQ_5"
      },
      "source": [
        "<img src=\"https://github.com/Ahnjihye/allinone_AI/blob/images/AI%20intro-001.png?raw=true\" width=700>\n",
        "\n",
        "<img src=\"https://github.com/Ahnjihye/allinone_AI/blob/images/AI%20intro-002.png?raw=true\" width=700>\n",
        "\n",
        "<img src=\"https://github.com/Ahnjihye/allinone_AI/blob/images/AI%20intro-003.png?raw=true\" width=700>\n",
        "\n",
        "<img src=\"https://github.com/Ahnjihye/allinone_AI/blob/images/AI%20intro-004.png?raw=true\" width=700>"
      ]
    },
    {
      "cell_type": "markdown",
      "metadata": {
        "id": "X59BpUx4DSzJ"
      },
      "source": [
        "### 2) 인공지능 체험해보기\n",
        "\n",
        "[티쳐블 머신 바로가기](https://teachablemachine.withgoogle.com/)"
      ]
    },
    {
      "cell_type": "markdown",
      "metadata": {
        "id": "lbJeIVooDXyT"
      },
      "source": [
        "### 3) 인공지능을 직접 만들려면 무엇을 알아야 하나요?"
      ]
    },
    {
      "cell_type": "code",
      "metadata": {
        "id": "wVaq7kgSDcGf"
      },
      "source": [
        ""
      ],
      "execution_count": null,
      "outputs": []
    },
    {
      "cell_type": "markdown",
      "metadata": {
        "id": "JPOhAH2kDoDU"
      },
      "source": [
        "# 파이썬에 대해 본격적으로 배워봅시다!\n",
        "\n",
        "<img src='https://github.com/Ahnjihye/allinone_AI/blob/images/0_%EB%AA%85%EB%A0%B9%EC%96%B4.png?raw=true' width=400>"
      ]
    },
    {
      "cell_type": "markdown",
      "metadata": {
        "id": "oGjNzjYeDuzI"
      },
      "source": [
        "# 1. 출력 명령어 print()\n",
        "\n",
        "\n",
        "\n",
        "```\n",
        "print(출력할 내용)\n",
        "```\n",
        "\n"
      ]
    },
    {
      "cell_type": "code",
      "metadata": {
        "id": "ON8D_neeDs2l",
        "outputId": "4ff727ac-7b16-4100-db07-21e5ac5bc628",
        "colab": {
          "base_uri": "https://localhost:8080/",
          "height": 34
        }
      },
      "source": [
        "print(10324)"
      ],
      "execution_count": null,
      "outputs": [
        {
          "output_type": "stream",
          "text": [
            "10324\n"
          ],
          "name": "stdout"
        }
      ]
    },
    {
      "cell_type": "code",
      "metadata": {
        "id": "1PSrTqHfQGSe",
        "outputId": "506eb640-85ed-47f2-c939-96828f483e33",
        "colab": {
          "base_uri": "https://localhost:8080/",
          "height": 34
        }
      },
      "source": [
        "print(2020 + 1012)"
      ],
      "execution_count": null,
      "outputs": [
        {
          "output_type": "stream",
          "text": [
            "3032\n"
          ],
          "name": "stdout"
        }
      ]
    },
    {
      "cell_type": "code",
      "metadata": {
        "id": "hiaohvQ8QJ_9",
        "outputId": "4ed9c604-b301-4bff-8428-92c5a58ef82d",
        "colab": {
          "base_uri": "https://localhost:8080/",
          "height": 34
        }
      },
      "source": [
        "print(2020 - 1012)"
      ],
      "execution_count": null,
      "outputs": [
        {
          "output_type": "stream",
          "text": [
            "1008\n"
          ],
          "name": "stdout"
        }
      ]
    },
    {
      "cell_type": "code",
      "metadata": {
        "id": "FIMG6LVxQL6f",
        "outputId": "546cd893-5245-4520-f0d8-278ec4771acb",
        "colab": {
          "base_uri": "https://localhost:8080/",
          "height": 34
        }
      },
      "source": [
        "print(2020 * 1012)"
      ],
      "execution_count": null,
      "outputs": [
        {
          "output_type": "stream",
          "text": [
            "2044240\n"
          ],
          "name": "stdout"
        }
      ]
    },
    {
      "cell_type": "code",
      "metadata": {
        "id": "6b20_p1uQL9y",
        "outputId": "49431f95-d323-414b-9c8d-9190e6a8c685",
        "colab": {
          "base_uri": "https://localhost:8080/",
          "height": 34
        }
      },
      "source": [
        "print(2020 / 1012)"
      ],
      "execution_count": null,
      "outputs": [
        {
          "output_type": "stream",
          "text": [
            "1.9960474308300395\n"
          ],
          "name": "stdout"
        }
      ]
    },
    {
      "cell_type": "code",
      "metadata": {
        "id": "5RT762l3BNmO",
        "outputId": "146ad509-4f77-4dcb-9505-2b0467cc51ba",
        "colab": {
          "base_uri": "https://localhost:8080/",
          "height": 169
        }
      },
      "source": [
        "print(안지혜)"
      ],
      "execution_count": null,
      "outputs": [
        {
          "output_type": "error",
          "ename": "NameError",
          "evalue": "ignored",
          "traceback": [
            "\u001b[0;31m---------------------------------------------------------------------------\u001b[0m",
            "\u001b[0;31mNameError\u001b[0m                                 Traceback (most recent call last)",
            "\u001b[0;32m<ipython-input-2-b38530ed216f>\u001b[0m in \u001b[0;36m<module>\u001b[0;34m()\u001b[0m\n\u001b[0;32m----> 1\u001b[0;31m \u001b[0mprint\u001b[0m\u001b[0;34m(\u001b[0m\u001b[0m안지혜\u001b[0m\u001b[0;34m)\u001b[0m\u001b[0;34m\u001b[0m\u001b[0;34m\u001b[0m\u001b[0m\n\u001b[0m",
            "\u001b[0;31mNameError\u001b[0m: name '안지혜' is not defined"
          ]
        }
      ]
    },
    {
      "cell_type": "markdown",
      "metadata": {
        "id": "QAO9DTSFRTKj"
      },
      "source": [
        "### * 문자는 따옴표로 감싸주자! \n",
        "\n",
        "\n",
        "\n",
        "```\n",
        "print(이름)    # 에러 발생\n",
        "print('이름')  # 정상 실행\n",
        "```\n",
        "\n"
      ]
    },
    {
      "cell_type": "code",
      "metadata": {
        "id": "5T2h0ieGD9uS",
        "outputId": "0f57b0cd-eb60-4781-aef7-b5cc098cb7d4",
        "colab": {
          "base_uri": "https://localhost:8080/",
          "height": 34
        }
      },
      "source": [
        "print('안지혜')"
      ],
      "execution_count": null,
      "outputs": [
        {
          "output_type": "stream",
          "text": [
            "안지혜\n"
          ],
          "name": "stdout"
        }
      ]
    },
    {
      "cell_type": "code",
      "metadata": {
        "id": "rld-iCivD9w3",
        "outputId": "102a5a42-7773-4900-ee1a-ef403db7897d",
        "colab": {
          "base_uri": "https://localhost:8080/",
          "height": 34
        }
      },
      "source": [
        "print('2020')"
      ],
      "execution_count": null,
      "outputs": [
        {
          "output_type": "stream",
          "text": [
            "2020\n"
          ],
          "name": "stdout"
        }
      ]
    },
    {
      "cell_type": "code",
      "metadata": {
        "id": "r5Buq8LSD934",
        "outputId": "8a9f963f-456c-4388-e7d4-b3289491d12c",
        "colab": {
          "base_uri": "https://localhost:8080/",
          "height": 169
        }
      },
      "source": [
        "print('2020' + 1012)"
      ],
      "execution_count": null,
      "outputs": [
        {
          "output_type": "error",
          "ename": "TypeError",
          "evalue": "ignored",
          "traceback": [
            "\u001b[0;31m---------------------------------------------------------------------------\u001b[0m",
            "\u001b[0;31mTypeError\u001b[0m                                 Traceback (most recent call last)",
            "\u001b[0;32m<ipython-input-9-1dc25e0413e3>\u001b[0m in \u001b[0;36m<module>\u001b[0;34m()\u001b[0m\n\u001b[0;32m----> 1\u001b[0;31m \u001b[0mprint\u001b[0m\u001b[0;34m(\u001b[0m\u001b[0;34m'2020'\u001b[0m \u001b[0;34m+\u001b[0m \u001b[0;36m1012\u001b[0m\u001b[0;34m)\u001b[0m\u001b[0;34m\u001b[0m\u001b[0;34m\u001b[0m\u001b[0m\n\u001b[0m",
            "\u001b[0;31mTypeError\u001b[0m: must be str, not int"
          ]
        }
      ]
    },
    {
      "cell_type": "markdown",
      "metadata": {
        "id": "ALmg1jLER48C"
      },
      "source": [
        "### 문자와 숫자는 계산이 안된다!! "
      ]
    },
    {
      "cell_type": "code",
      "metadata": {
        "id": "hLU0u3PXR_Zv",
        "outputId": "325dd4d0-8314-454e-f026-25b42098bf86",
        "colab": {
          "base_uri": "https://localhost:8080/",
          "height": 52
        }
      },
      "source": [
        "# 몫을 구하는 연산자 //\n",
        "# 나머지를 구하는 연산자  %\n",
        "print(20 // 3)\n",
        "print(20 % 3)"
      ],
      "execution_count": null,
      "outputs": [
        {
          "output_type": "stream",
          "text": [
            "6\n",
            "2\n"
          ],
          "name": "stdout"
        }
      ]
    },
    {
      "cell_type": "code",
      "metadata": {
        "id": "e80BZrWgR_dF",
        "outputId": "bc1b361f-7f63-4f4a-d7a8-458ae06c166b",
        "colab": {
          "base_uri": "https://localhost:8080/",
          "height": 52
        }
      },
      "source": [
        "print(13 // 4)\n",
        "print(13 % 4)"
      ],
      "execution_count": null,
      "outputs": [
        {
          "output_type": "stream",
          "text": [
            "3\n",
            "1\n"
          ],
          "name": "stdout"
        }
      ]
    },
    {
      "cell_type": "markdown",
      "metadata": {
        "id": "VOViLJpcSZ4H"
      },
      "source": [
        "### 여러 요소 결합하여 출력하기 - 콤마로 연결하여 print()\n",
        "\n",
        "\n",
        "```\n",
        "print(내용1, 내용2, 내용3)\n",
        "```\n",
        "\n"
      ]
    },
    {
      "cell_type": "code",
      "metadata": {
        "id": "2zIwB0yISkq9",
        "outputId": "3d0e7180-084b-4b3c-8126-4fcc4aee6b08",
        "colab": {
          "base_uri": "https://localhost:8080/",
          "height": 34
        }
      },
      "source": [
        "print(10324, '안지혜')"
      ],
      "execution_count": null,
      "outputs": [
        {
          "output_type": "stream",
          "text": [
            "10324 안지혜\n"
          ],
          "name": "stdout"
        }
      ]
    },
    {
      "cell_type": "code",
      "metadata": {
        "id": "m_OUoOaeTgzI",
        "outputId": "be61bfe2-5b4c-4616-c845-cfedeab00d81",
        "colab": {
          "base_uri": "https://localhost:8080/",
          "height": 34
        }
      },
      "source": [
        "print('안녕하세요','파이썬 첫시간이네요')"
      ],
      "execution_count": null,
      "outputs": [
        {
          "output_type": "stream",
          "text": [
            "안녕하세요 파이썬 첫시간이네요\n"
          ],
          "name": "stdout"
        }
      ]
    },
    {
      "cell_type": "code",
      "metadata": {
        "id": "-7zqjfcBTl5H",
        "outputId": "5504cec0-5437-48a3-89ab-1637f5a8a4e1",
        "colab": {
          "base_uri": "https://localhost:8080/",
          "height": 52
        }
      },
      "source": [
        "print('반갑습니다.')\n",
        "print('저는 안지혜입니다.')"
      ],
      "execution_count": null,
      "outputs": [
        {
          "output_type": "stream",
          "text": [
            "반갑습니다.\n",
            "저는 안지혜입니다.\n"
          ],
          "name": "stdout"
        }
      ]
    },
    {
      "cell_type": "code",
      "metadata": {
        "id": "EfXUrhpBaLS9"
      },
      "source": [
        "# 실습1 \n",
        "# 본인 학번, 이름을 한 줄로 출력해보기!\n"
      ],
      "execution_count": null,
      "outputs": []
    },
    {
      "cell_type": "markdown",
      "metadata": {
        "id": "6dNSk92wD-Jk"
      },
      "source": [
        "# 2. 입력 명령어 input()\n",
        "\n",
        "```\n",
        "input()\n",
        "```\n",
        "\n"
      ]
    },
    {
      "cell_type": "code",
      "metadata": {
        "id": "_WPfsGEwD91j",
        "outputId": "449bc27b-18ea-4bef-fc8d-9fc1ebb3bd81",
        "colab": {
          "base_uri": "https://localhost:8080/",
          "height": 52
        }
      },
      "source": [
        "input()"
      ],
      "execution_count": null,
      "outputs": [
        {
          "output_type": "stream",
          "text": [
            "안지혜\n"
          ],
          "name": "stdout"
        },
        {
          "output_type": "execute_result",
          "data": {
            "application/vnd.google.colaboratory.intrinsic+json": {
              "type": "string"
            },
            "text/plain": [
              "'안지혜'"
            ]
          },
          "metadata": {
            "tags": []
          },
          "execution_count": 19
        }
      ]
    },
    {
      "cell_type": "markdown",
      "metadata": {
        "id": "MdoEs5nET0q0"
      },
      "source": [
        "### 입력안내문 넣기\n",
        "\n",
        "\n",
        "```\n",
        "input('입력안내문')\n",
        "```\n",
        "\n"
      ]
    },
    {
      "cell_type": "code",
      "metadata": {
        "id": "_X_u18qLEAlJ",
        "outputId": "1a0564cb-e999-40f5-984d-70aadc45290b",
        "colab": {
          "base_uri": "https://localhost:8080/",
          "height": 52
        }
      },
      "source": [
        "input('아이디 :')"
      ],
      "execution_count": null,
      "outputs": [
        {
          "output_type": "stream",
          "text": [
            "아이디 :student\n"
          ],
          "name": "stdout"
        },
        {
          "output_type": "execute_result",
          "data": {
            "application/vnd.google.colaboratory.intrinsic+json": {
              "type": "string"
            },
            "text/plain": [
              "'student'"
            ]
          },
          "metadata": {
            "tags": []
          },
          "execution_count": 20
        }
      ]
    },
    {
      "cell_type": "code",
      "metadata": {
        "id": "SY0BvsQSEAnv",
        "outputId": "387f76ba-e95c-458c-d9d4-5b2a58586558",
        "colab": {
          "base_uri": "https://localhost:8080/",
          "height": 70
        }
      },
      "source": [
        "input('아이디 -->')\n",
        "input('비밀번호 -->')"
      ],
      "execution_count": null,
      "outputs": [
        {
          "output_type": "stream",
          "text": [
            "아이디 :jiejie\n",
            "비밀번호 :asdasd\n"
          ],
          "name": "stdout"
        },
        {
          "output_type": "execute_result",
          "data": {
            "application/vnd.google.colaboratory.intrinsic+json": {
              "type": "string"
            },
            "text/plain": [
              "'asdasd'"
            ]
          },
          "metadata": {
            "tags": []
          },
          "execution_count": 21
        }
      ]
    },
    {
      "cell_type": "code",
      "metadata": {
        "id": "2n2gO24yEArK"
      },
      "source": [
        "# 실습2 \n",
        "# 아이디/비밀번호를 이외에 자주 사용되는 입력칸은 무엇이 있을까요?\n",
        "# input() 명령어를 활용하여 작성해봅시다!\n"
      ],
      "execution_count": null,
      "outputs": []
    },
    {
      "cell_type": "markdown",
      "metadata": {
        "id": "mOdQ7cMEEA6X"
      },
      "source": [
        "# 3. 변수 : 데이터를 저장하는 공간\n",
        "```\n",
        "변수이름 = 저장할 데이터\n",
        "name = '안지혜'\n",
        "school = '관악고'\n",
        "```\n"
      ]
    },
    {
      "cell_type": "code",
      "metadata": {
        "id": "xYvahOomZyai",
        "outputId": "5d9a68e0-af84-45b2-993f-a2742cd5de8d",
        "colab": {
          "base_uri": "https://localhost:8080/",
          "height": 34
        }
      },
      "source": [
        "x = 10\n",
        "print(x)"
      ],
      "execution_count": null,
      "outputs": [
        {
          "output_type": "stream",
          "text": [
            "10\n"
          ],
          "name": "stdout"
        }
      ]
    },
    {
      "cell_type": "code",
      "metadata": {
        "id": "gB9iea-6ZydA",
        "outputId": "9624be4f-3480-4cce-8b4a-a76923b958ce",
        "colab": {
          "base_uri": "https://localhost:8080/",
          "height": 34
        }
      },
      "source": [
        "y = 14\n",
        "print(y)"
      ],
      "execution_count": null,
      "outputs": [
        {
          "output_type": "stream",
          "text": [
            "14\n"
          ],
          "name": "stdout"
        }
      ]
    },
    {
      "cell_type": "code",
      "metadata": {
        "id": "4fBjBW--bsiW",
        "outputId": "6178198d-8fa5-4a4d-9b2c-b3d441da54d3",
        "colab": {
          "base_uri": "https://localhost:8080/",
          "height": 34
        }
      },
      "source": [
        "print(2*x + 5)"
      ],
      "execution_count": null,
      "outputs": [
        {
          "output_type": "stream",
          "text": [
            "25\n"
          ],
          "name": "stdout"
        }
      ]
    },
    {
      "cell_type": "markdown",
      "metadata": {
        "id": "TEokyz2Ebc4L"
      },
      "source": [
        "<img src = 'https://github.com/Ahnjihye/allinone_AI/blob/images/1_%EB%B3%80%EC%88%98.png?raw=true' width =500>"
      ]
    },
    {
      "cell_type": "code",
      "metadata": {
        "id": "HilpZz1lZyfl",
        "outputId": "7d544549-8210-4639-bc42-4f177798fb8a",
        "colab": {
          "base_uri": "https://localhost:8080/",
          "height": 34
        }
      },
      "source": [
        "name = '안지혜'\n",
        "school = '관악고'\n",
        "\n",
        "print(name,'의 학교는', school)"
      ],
      "execution_count": null,
      "outputs": [
        {
          "output_type": "stream",
          "text": [
            "안지혜 의 학교는 관악고\n"
          ],
          "name": "stdout"
        }
      ]
    },
    {
      "cell_type": "code",
      "metadata": {
        "id": "vvsi2GkkZyiq",
        "outputId": "1a8a4855-63e4-4e68-a491-90469bfe7698",
        "colab": {
          "base_uri": "https://localhost:8080/",
          "height": 34
        }
      },
      "source": [
        "number = 10420\n",
        "\n",
        "print(name,'의 학번은', number)"
      ],
      "execution_count": null,
      "outputs": [
        {
          "output_type": "stream",
          "text": [
            "안지혜 의 학번은 10420\n"
          ],
          "name": "stdout"
        }
      ]
    },
    {
      "cell_type": "markdown",
      "metadata": {
        "id": "2RcpNUzwcQa8"
      },
      "source": [
        "### 값을 입력받아 변수에 저장하기"
      ]
    },
    {
      "cell_type": "code",
      "metadata": {
        "id": "rztiIO0QD90N",
        "outputId": "ffc3390d-b5e4-48bb-fcfe-cc933f6ffe92",
        "colab": {
          "base_uri": "https://localhost:8080/",
          "height": 34
        }
      },
      "source": [
        "id = input('아이디 -->')"
      ],
      "execution_count": null,
      "outputs": [
        {
          "output_type": "stream",
          "text": [
            "아이디 -->jiejie\n"
          ],
          "name": "stdout"
        }
      ]
    },
    {
      "cell_type": "code",
      "metadata": {
        "id": "a3K7TwKzEFY8",
        "outputId": "73183730-3745-4c62-e936-bae5bb09dc57",
        "colab": {
          "base_uri": "https://localhost:8080/",
          "height": 34
        }
      },
      "source": [
        "print(id)"
      ],
      "execution_count": null,
      "outputs": [
        {
          "output_type": "stream",
          "text": [
            "jiejie\n"
          ],
          "name": "stdout"
        }
      ]
    },
    {
      "cell_type": "code",
      "metadata": {
        "id": "1YGbp_m9cd4O",
        "outputId": "900679ba-b023-4eba-90b2-94421e3d06a7",
        "colab": {
          "base_uri": "https://localhost:8080/",
          "height": 34
        }
      },
      "source": [
        "# 실습3\n",
        "# (아이디)님! 환영합니다 출력하기  ex. jiejie님! 환영합니다!\n",
        "print(id,'님! 환영합니다!')"
      ],
      "execution_count": null,
      "outputs": [
        {
          "output_type": "stream",
          "text": [
            "jiejie 님! 환영합니다!\n"
          ],
          "name": "stdout"
        }
      ]
    },
    {
      "cell_type": "code",
      "metadata": {
        "id": "twDdxVPlEFbp",
        "outputId": "e4e83e05-31f3-4ff1-d6a1-eaf8ad2552da",
        "colab": {
          "base_uri": "https://localhost:8080/",
          "height": 34
        }
      },
      "source": [
        "pw = input('비밀번호 -->')"
      ],
      "execution_count": null,
      "outputs": [
        {
          "output_type": "stream",
          "text": [
            "비밀번호 -->12341234\n"
          ],
          "name": "stdout"
        }
      ]
    },
    {
      "cell_type": "code",
      "metadata": {
        "id": "DRSq-FmPEFgT",
        "outputId": "2811fcd2-a321-4e15-a7d4-3bbea713b64f",
        "colab": {
          "base_uri": "https://localhost:8080/",
          "height": 34
        }
      },
      "source": [
        "# 실습4\n",
        "# 비밀번호가 (비번)맞습니까? 출력하기  ex. 비밀번호가 12341234 맞습니까?\n",
        "print('비밀번호가',pw,'맞습니까?')"
      ],
      "execution_count": null,
      "outputs": [
        {
          "output_type": "stream",
          "text": [
            "비밀번호가 12341234 맞습니까?\n"
          ],
          "name": "stdout"
        }
      ]
    },
    {
      "cell_type": "code",
      "metadata": {
        "id": "v7QxAajGEFjI",
        "outputId": "0a87a7f6-279a-4a44-c10b-78b2eaae52e4",
        "colab": {
          "base_uri": "https://localhost:8080/",
          "height": 52
        }
      },
      "source": [
        "# 실습5\n",
        "# 입력안내문이 '예/아니오' 인 입력칸 하나 만들기\n",
        "input('예/아니오-->')"
      ],
      "execution_count": null,
      "outputs": [
        {
          "output_type": "stream",
          "text": [
            "예/아니오-->아니오\n"
          ],
          "name": "stdout"
        },
        {
          "output_type": "execute_result",
          "data": {
            "application/vnd.google.colaboratory.intrinsic+json": {
              "type": "string"
            },
            "text/plain": [
              "'아니오'"
            ]
          },
          "metadata": {
            "tags": []
          },
          "execution_count": 33
        }
      ]
    },
    {
      "cell_type": "markdown",
      "metadata": {
        "id": "ZngcTLC8dg9a"
      },
      "source": [
        "### 변수를 활용하여 연산하기"
      ]
    },
    {
      "cell_type": "code",
      "metadata": {
        "id": "hxIM-SWEeFox",
        "outputId": "3d78611a-066b-4f12-edb8-4b85c28b566f",
        "colab": {
          "base_uri": "https://localhost:8080/",
          "height": 34
        }
      },
      "source": [
        "x = 20\n",
        "y = 20 + 5\n",
        "\n",
        "# y로 출력될 값 예상해보기\n",
        "print(y)"
      ],
      "execution_count": null,
      "outputs": [
        {
          "output_type": "stream",
          "text": [
            "25\n"
          ],
          "name": "stdout"
        }
      ]
    },
    {
      "cell_type": "code",
      "metadata": {
        "id": "R9euVxjReLTp",
        "outputId": "7b7a3d54-a3be-45ea-913a-be8dbf999d36",
        "colab": {
          "base_uri": "https://localhost:8080/",
          "height": 34
        }
      },
      "source": [
        "x = 10\n",
        "y = 3 * 10 + 2\n",
        "\n",
        "# y로 출력될 값 예상해보기\n",
        "print(y)"
      ],
      "execution_count": null,
      "outputs": [
        {
          "output_type": "stream",
          "text": [
            "32\n"
          ],
          "name": "stdout"
        }
      ]
    },
    {
      "cell_type": "markdown",
      "metadata": {
        "id": "NxSAnr_QeVdd"
      },
      "source": [
        "1.   첫번째 계산에서 x의 값과 두 번째 계산에서 x의 값은? \n",
        "2.   첫번째 계산에서 y의 값과 두 번째 계산에서 y의 값은? \n",
        "\n"
      ]
    },
    {
      "cell_type": "markdown",
      "metadata": {
        "id": "uNx9729qe0L8"
      },
      "source": [
        "#### **같은 이름의 변수에는 하나의 값만 넣을 수 있다.**\n",
        "#### **가장 최근에 저장된 값만 저장된다.**"
      ]
    },
    {
      "cell_type": "code",
      "metadata": {
        "id": "GCrNnMdPEFd7"
      },
      "source": [
        "apple = 1200\n",
        "banana = 800\n",
        "kiwi = 1700"
      ],
      "execution_count": null,
      "outputs": []
    },
    {
      "cell_type": "code",
      "metadata": {
        "id": "tWGHKrXAfE1i",
        "outputId": "859f8863-2d8d-4e0a-8305-f2f5729003aa",
        "colab": {
          "base_uri": "https://localhost:8080/",
          "height": 34
        }
      },
      "source": [
        "# 사과, 바나나, 키위를 모두 하나씩 구매한 가격을 \n",
        "# 변수 price에 저장하고 출력하시오\n",
        "price = apple + banana + kiwi\n",
        "print(price)"
      ],
      "execution_count": null,
      "outputs": [
        {
          "output_type": "stream",
          "text": [
            "3700\n"
          ],
          "name": "stdout"
        }
      ]
    },
    {
      "cell_type": "code",
      "metadata": {
        "id": "GKg1WQoWdlE8",
        "outputId": "c605ba81-d77d-4d28-a103-dd7eafde9f76",
        "colab": {
          "base_uri": "https://localhost:8080/",
          "height": 34
        }
      },
      "source": [
        "# 사과 3개, 바나나1개, 키위2개 구매한 가격을 \n",
        "# 변수 price2에 저장하고 출력하시오\n",
        "price2 = apple*3 + banana*1 + kiwi*2\n",
        "print(price2,'원')"
      ],
      "execution_count": null,
      "outputs": [
        {
          "output_type": "stream",
          "text": [
            "7800 원\n"
          ],
          "name": "stdout"
        }
      ]
    },
    {
      "cell_type": "code",
      "metadata": {
        "id": "8n_LfWWRdlHd",
        "outputId": "55a41a38-974b-40a8-f403-11c6f1ee25ed",
        "colab": {
          "base_uri": "https://localhost:8080/",
          "height": 34
        }
      },
      "source": [
        "# vip는 20% 할인된다. \n",
        "# vip가 price2 금액을 구매했을 때 지불하는 가격을 price_vip에 저장하고 출력하시오\n",
        "price_vip = price2 * 0.8\n",
        "print('vip가격 : ',price_vip,'원')"
      ],
      "execution_count": null,
      "outputs": [
        {
          "output_type": "stream",
          "text": [
            "vip가격 :  6240.0 원\n"
          ],
          "name": "stdout"
        }
      ]
    },
    {
      "cell_type": "markdown",
      "metadata": {
        "id": "tteJ8L80dlT5"
      },
      "source": [
        "### 변수의 데이터타입 \n",
        "\n",
        "변수에 저장된 데이터에 따라 변수의 데이터타입이 결정된다.! \n",
        "\n",
        "```\n",
        "정수 int\n",
        "실수 float\n",
        "문자 str\n",
        "```\n",
        "\n"
      ]
    },
    {
      "cell_type": "code",
      "metadata": {
        "id": "gbSECaEWdlKB",
        "outputId": "1bd3d9c2-4a68-4f20-a171-142bdba4ba33",
        "colab": {
          "base_uri": "https://localhost:8080/",
          "height": 34
        }
      },
      "source": [
        "type(apple)"
      ],
      "execution_count": null,
      "outputs": [
        {
          "output_type": "execute_result",
          "data": {
            "text/plain": [
              "int"
            ]
          },
          "metadata": {
            "tags": []
          },
          "execution_count": 41
        }
      ]
    },
    {
      "cell_type": "code",
      "metadata": {
        "id": "XSLfWkPQf0dU",
        "outputId": "961f475a-9af6-421a-aadd-e98bca078134",
        "colab": {
          "base_uri": "https://localhost:8080/",
          "height": 34
        }
      },
      "source": [
        "type(banana)"
      ],
      "execution_count": null,
      "outputs": [
        {
          "output_type": "execute_result",
          "data": {
            "text/plain": [
              "int"
            ]
          },
          "metadata": {
            "tags": []
          },
          "execution_count": 42
        }
      ]
    },
    {
      "cell_type": "code",
      "metadata": {
        "id": "ORX7GnvQwh2T",
        "outputId": "226e6a8f-ab85-4090-f1b7-98af1b5d09ab",
        "colab": {
          "base_uri": "https://localhost:8080/",
          "height": 34
        }
      },
      "source": [
        "type(id)"
      ],
      "execution_count": null,
      "outputs": [
        {
          "output_type": "execute_result",
          "data": {
            "text/plain": [
              "str"
            ]
          },
          "metadata": {
            "tags": []
          },
          "execution_count": 43
        }
      ]
    },
    {
      "cell_type": "code",
      "metadata": {
        "id": "ZpEmKNN5wh8r",
        "outputId": "f4f791cd-82bf-474e-aa9d-1483e5d320a8",
        "colab": {
          "base_uri": "https://localhost:8080/",
          "height": 34
        }
      },
      "source": [
        "type(pw)"
      ],
      "execution_count": null,
      "outputs": [
        {
          "output_type": "execute_result",
          "data": {
            "text/plain": [
              "str"
            ]
          },
          "metadata": {
            "tags": []
          },
          "execution_count": 44
        }
      ]
    },
    {
      "cell_type": "markdown",
      "metadata": {
        "id": "k555yQDtwqlE"
      },
      "source": [
        "### 데이터타입 변경하기\n",
        "변경하려는 데이터타입으로 감싸주기\n",
        "\n",
        "\n",
        "```\n",
        "# 정수로 변경하기\n",
        "int(변수)\n",
        "\n",
        "# 실수로 변경하기\n",
        "float(변수)\n",
        "\n",
        "# 문자로 변경하기\n",
        "str(변수)\n",
        "```\n",
        "\n"
      ]
    },
    {
      "cell_type": "code",
      "metadata": {
        "id": "ntWPEs8gwh6Y",
        "outputId": "5833b087-a86b-45b8-fe1e-dcb85ffdd6ae",
        "colab": {
          "base_uri": "https://localhost:8080/",
          "height": 34
        }
      },
      "source": [
        "print(apple)"
      ],
      "execution_count": null,
      "outputs": [
        {
          "output_type": "stream",
          "text": [
            "1200\n"
          ],
          "name": "stdout"
        }
      ]
    },
    {
      "cell_type": "code",
      "metadata": {
        "id": "yryERNVNw-qf",
        "outputId": "bc0c93fa-2b8a-4ed5-9716-05478bc8db9e",
        "colab": {
          "base_uri": "https://localhost:8080/",
          "height": 34
        }
      },
      "source": [
        "print(float(apple))"
      ],
      "execution_count": null,
      "outputs": [
        {
          "output_type": "stream",
          "text": [
            "1200.0\n"
          ],
          "name": "stdout"
        }
      ]
    },
    {
      "cell_type": "code",
      "metadata": {
        "id": "jAgvcYidxkKV",
        "outputId": "0dacb192-d08d-4f62-9943-c8896ed46e2b",
        "colab": {
          "base_uri": "https://localhost:8080/",
          "height": 34
        }
      },
      "source": [
        "print(price_vip)"
      ],
      "execution_count": null,
      "outputs": [
        {
          "output_type": "stream",
          "text": [
            "6240.0\n"
          ],
          "name": "stdout"
        }
      ]
    },
    {
      "cell_type": "code",
      "metadata": {
        "id": "5QJ6JrxixBWF",
        "outputId": "42438e5d-a56f-4d73-d530-c1ec8325801a",
        "colab": {
          "base_uri": "https://localhost:8080/",
          "height": 34
        }
      },
      "source": [
        "print(int(price_vip))"
      ],
      "execution_count": null,
      "outputs": [
        {
          "output_type": "stream",
          "text": [
            "6240\n"
          ],
          "name": "stdout"
        }
      ]
    },
    {
      "cell_type": "code",
      "metadata": {
        "id": "3Kf5OAQHxMTQ",
        "outputId": "c4942eef-d1f4-4905-ad76-d151f8463aec",
        "colab": {
          "base_uri": "https://localhost:8080/",
          "height": 34
        }
      },
      "source": [
        "# 실습 6\n",
        "# 입력명령어를 활용하여 점수를 입력받고 \n",
        "# 입력받은 점수를 변수 score에 저장하시오\n",
        "score = input('점수 --> ')"
      ],
      "execution_count": null,
      "outputs": [
        {
          "output_type": "stream",
          "text": [
            "점수 --> 90\n"
          ],
          "name": "stdout"
        }
      ]
    },
    {
      "cell_type": "code",
      "metadata": {
        "id": "ivNTu3G8xMQG",
        "outputId": "b507e164-e57d-45aa-c2b0-fb1a847796a6",
        "colab": {
          "base_uri": "https://localhost:8080/",
          "height": 34
        }
      },
      "source": [
        "# 실습 7\n",
        "# 변수 score의 데이터타입은 무엇일까? 예측해보자.\n",
        "# type()명령어를 활용하여 입력받은 점수의 데이터타입을 확인하시오\n",
        "type(score)"
      ],
      "execution_count": null,
      "outputs": [
        {
          "output_type": "execute_result",
          "data": {
            "text/plain": [
              "str"
            ]
          },
          "metadata": {
            "tags": []
          },
          "execution_count": 55
        }
      ]
    },
    {
      "cell_type": "markdown",
      "metadata": {
        "id": "x91qur2cyfPi"
      },
      "source": [
        "**input()으로 입력받은 데이터는 무조건 STR (문자)이다.**"
      ]
    },
    {
      "cell_type": "code",
      "metadata": {
        "id": "-PzhDKiWxMMy",
        "outputId": "b259176e-fdc4-4022-8eca-8574f0b4e902",
        "colab": {
          "base_uri": "https://localhost:8080/",
          "height": 204
        }
      },
      "source": [
        "# 실습 8\n",
        "# 위에서 입력받은 점수에 0.5을 곱하여 \n",
        "# 변수 midterm_score에 저장하시오.\n",
        "midterm_score = score * 0.5"
      ],
      "execution_count": null,
      "outputs": [
        {
          "output_type": "error",
          "ename": "TypeError",
          "evalue": "ignored",
          "traceback": [
            "\u001b[0;31m---------------------------------------------------------------------------\u001b[0m",
            "\u001b[0;31mTypeError\u001b[0m                                 Traceback (most recent call last)",
            "\u001b[0;32m<ipython-input-56-ffa05e7fbce5>\u001b[0m in \u001b[0;36m<module>\u001b[0;34m()\u001b[0m\n\u001b[1;32m      2\u001b[0m \u001b[0;31m# 위에서 입력받은 점수에 0.5을 곱하여\u001b[0m\u001b[0;34m\u001b[0m\u001b[0;34m\u001b[0m\u001b[0;34m\u001b[0m\u001b[0m\n\u001b[1;32m      3\u001b[0m \u001b[0;31m# 변수 midterm_score에 저장하시오.\u001b[0m\u001b[0;34m\u001b[0m\u001b[0;34m\u001b[0m\u001b[0;34m\u001b[0m\u001b[0m\n\u001b[0;32m----> 4\u001b[0;31m \u001b[0mmidterm_score\u001b[0m \u001b[0;34m=\u001b[0m \u001b[0mscore\u001b[0m \u001b[0;34m*\u001b[0m \u001b[0;36m0.5\u001b[0m\u001b[0;34m\u001b[0m\u001b[0;34m\u001b[0m\u001b[0m\n\u001b[0m",
            "\u001b[0;31mTypeError\u001b[0m: can't multiply sequence by non-int of type 'float'"
          ]
        }
      ]
    },
    {
      "cell_type": "code",
      "metadata": {
        "id": "rI5rXTqmy5Hu"
      },
      "source": [
        "score = int(score)\n",
        "midterm_score = score*0.5"
      ],
      "execution_count": null,
      "outputs": []
    },
    {
      "cell_type": "code",
      "metadata": {
        "id": "WTQXIWhLy9v9",
        "outputId": "d45f60a6-90a9-4b57-f610-feb0a0711a39",
        "colab": {
          "base_uri": "https://localhost:8080/",
          "height": 34
        }
      },
      "source": [
        "print(midterm_score)"
      ],
      "execution_count": null,
      "outputs": [
        {
          "output_type": "stream",
          "text": [
            "45.0\n"
          ],
          "name": "stdout"
        }
      ]
    },
    {
      "cell_type": "code",
      "metadata": {
        "id": "CDSgxnU2zAzs"
      },
      "source": [
        ""
      ],
      "execution_count": null,
      "outputs": []
    }
  ]
}