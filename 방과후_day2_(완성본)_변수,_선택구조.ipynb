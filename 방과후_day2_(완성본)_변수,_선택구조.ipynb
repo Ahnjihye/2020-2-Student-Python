{
  "nbformat": 4,
  "nbformat_minor": 0,
  "metadata": {
    "colab": {
      "name": "방과후 day2 (완성본) 변수, 선택구조.ipynb",
      "provenance": [],
      "collapsed_sections": [],
      "authorship_tag": "ABX9TyPa2bhr+6KjwrziK6CMtDgr",
      "include_colab_link": true
    },
    "kernelspec": {
      "name": "python3",
      "display_name": "Python 3"
    }
  },
  "cells": [
    {
      "cell_type": "markdown",
      "metadata": {
        "id": "view-in-github",
        "colab_type": "text"
      },
      "source": [
        "<a href=\"https://colab.research.google.com/github/Ahnjihye/2020-2-Student-Python/blob/main/%EB%B0%A9%EA%B3%BC%ED%9B%84_day2_(%EC%99%84%EC%84%B1%EB%B3%B8)_%EB%B3%80%EC%88%98%2C_%EC%84%A0%ED%83%9D%EA%B5%AC%EC%A1%B0.ipynb\" target=\"_parent\"><img src=\"https://colab.research.google.com/assets/colab-badge.svg\" alt=\"Open In Colab\"/></a>"
      ]
    },
    {
      "cell_type": "markdown",
      "metadata": {
        "id": "ZstKKkcrGzaS"
      },
      "source": [
        "# 1. 지난시간 복습\n",
        "\n",
        "<img src='https://github.com/Ahnjihye/allinone_AI/blob/images/0_%EB%AA%85%EB%A0%B9%EC%96%B4.png?raw=true' width=400>\n",
        "        \n"
      ]
    },
    {
      "cell_type": "markdown",
      "metadata": {
        "id": "9QBQme8AHpW9"
      },
      "source": [
        "     \n",
        "### 출력 명령어 print()\n",
        "```\n",
        "print(출력할 내용)\n",
        "```"
      ]
    },
    {
      "cell_type": "code",
      "metadata": {
        "id": "MDVJZn1ZMfNc"
      },
      "source": [
        "# 복습 1\n",
        "# 본인 생일 8개 숫자로 출력하기\n"
      ],
      "execution_count": null,
      "outputs": []
    },
    {
      "cell_type": "markdown",
      "metadata": {
        "id": "5_-ZLMLdMfVE"
      },
      "source": [
        "#### 문자는 따옴표로 감싸주자!\n",
        "``` \n",
        "print(이름)    # 에러 발생\n",
        "```\n",
        "```\n",
        "print('이름')  # 정상 실행\n",
        "```\n"
      ]
    },
    {
      "cell_type": "code",
      "metadata": {
        "id": "oxgReflgDjvy"
      },
      "source": [
        "# 복습 2 \n",
        "# 가장 좋아하는 계절 출력하기\n"
      ],
      "execution_count": null,
      "outputs": []
    },
    {
      "cell_type": "markdown",
      "metadata": {
        "id": "GzEKjyAJH3DO"
      },
      "source": [
        "### 2. 입력 명령어 input()\n",
        "\n",
        "```\n",
        "input()\n",
        "```\n",
        "\n",
        "#### 입력안내문 넣기\n",
        "```\n",
        "input('입력안내문')\n",
        "```"
      ]
    },
    {
      "cell_type": "code",
      "metadata": {
        "id": "Br9ZjQiOGx_8"
      },
      "source": [
        "# 복습 3  \n",
        "# 학번을 입력받는 칸을 만들어보시오 \n"
      ],
      "execution_count": null,
      "outputs": []
    },
    {
      "cell_type": "markdown",
      "metadata": {
        "id": "kza4BGSuIQtw"
      },
      "source": [
        "### 3. 변수 : 데이터를 저장하는 공간\n",
        "```\n",
        "변수이름 = 저장할 데이터\n",
        "```\n",
        "```\n",
        "a = 10\n",
        "```\n",
        "<img src = 'https://github.com/Ahnjihye/allinone_AI/blob/images/1_%EB%B3%80%EC%88%98.png?raw=true' width =500>\n",
        "\n",
        "```\n",
        "name = '안지혜'\n",
        "school = '관악고'\n",
        "```"
      ]
    },
    {
      "cell_type": "code",
      "metadata": {
        "id": "G8-f41AQGyI7"
      },
      "source": [
        "# 복습 4  \n",
        "# 이름, 좋아하는 계절, 생일을 각각 다른 변수에 저장하시오\n",
        "# 변수 이름은 본인 맘대로 가능 (잘 생각 안나면 name, season, birthday로 해도 됨)\n",
        "name = '안지혜'\n",
        "season = '가을'\n",
        "birthday = '20201019'"
      ],
      "execution_count": null,
      "outputs": []
    },
    {
      "cell_type": "markdown",
      "metadata": {
        "id": "hFXRLcteMhQ8"
      },
      "source": [
        "#### 여러 요소 결합하여 출력하기 - 콤마로 연결하여 print()\n",
        "\n",
        "```\n",
        "print(내용1, 내용2, 내용3)\n",
        "```"
      ]
    },
    {
      "cell_type": "code",
      "metadata": {
        "id": "kQJ2N9kNGx7I",
        "outputId": "b304e827-8e7b-4b03-fc6e-865a787e01e7",
        "colab": {
          "base_uri": "https://localhost:8080/",
          "height": 36
        }
      },
      "source": [
        "# 복습 5\n",
        "# 위에서 만든 변수를 활용하여\n",
        "# [생일]에 태어난 [본인이름]은 [계절]을 좋아한다. 출력\n",
        "print(birthday, '에 태어난',name,'은/는',season,'을 좋아한다') "
      ],
      "execution_count": null,
      "outputs": [
        {
          "output_type": "stream",
          "text": [
            "20201019 에 태어난 안지혜 은/는 가을 을 좋아한다\n"
          ],
          "name": "stdout"
        }
      ]
    },
    {
      "cell_type": "markdown",
      "metadata": {
        "id": "IOdruSfrLTi4"
      },
      "source": [
        "#### 입력받아 변수에 저장하기\n",
        "\n",
        "```\n",
        "변수이름 = input()\n",
        "```\n",
        "<img src=\"https://github.com/Ahnjihye/allinone_AI/blob/images/%EC%9D%B4%EB%AF%B8%EC%A7%80%20003.png?raw=true\" width=400>\n"
      ]
    },
    {
      "cell_type": "code",
      "metadata": {
        "id": "BJnXNKXgGyN0",
        "outputId": "07d3b7fb-c02f-4e8c-a4cc-c110b1af3423",
        "colab": {
          "base_uri": "https://localhost:8080/",
          "height": 55
        }
      },
      "source": [
        "# 복습 6\n",
        "# 닉네임을 입력받은 후, \"[닉네임]님 안녕하세요\"라고 출력하기\n",
        "nick = input('닉네임 --> ')\n",
        "print(nick, '님, 안녕하세요')"
      ],
      "execution_count": null,
      "outputs": [
        {
          "output_type": "stream",
          "text": [
            "닉네임 --> 오늘밤주인공은나야나\n",
            "오늘밤주인공은나야나 님, 안녕하세요\n"
          ],
          "name": "stdout"
        }
      ]
    },
    {
      "cell_type": "markdown",
      "metadata": {
        "id": "7PSfMqiCMKvK"
      },
      "source": [
        "#### 변수의 데이터타입 \n",
        "\n",
        "변수에 저장된 데이터에 따라 변수의 데이터타입이 결정된다.! \n",
        "\n",
        "```\n",
        "정수 int\n",
        "실수 float\n",
        "문자 str\n",
        "```\n",
        "데이터 타입을 알려주는 명령어\n",
        "```\n",
        "type(변수이름)\n",
        "```\n",
        "\n"
      ]
    },
    {
      "cell_type": "code",
      "metadata": {
        "id": "4k6MWHyBGyHQ",
        "outputId": "6f5c45de-4b0c-4b61-837b-577b53d9b1de",
        "colab": {
          "base_uri": "https://localhost:8080/",
          "height": 36
        }
      },
      "source": [
        "# 복습 6\n",
        "# 위에서 만든 변수 name의 데이터타입 출력\n",
        "type(name)"
      ],
      "execution_count": null,
      "outputs": [
        {
          "output_type": "execute_result",
          "data": {
            "text/plain": [
              "str"
            ]
          },
          "metadata": {
            "tags": []
          },
          "execution_count": 10
        }
      ]
    },
    {
      "cell_type": "code",
      "metadata": {
        "id": "Ptsj_Xa2Gx-H",
        "outputId": "b6dfb9f8-b95f-437d-8b8e-8edb2a5c7256",
        "colab": {
          "base_uri": "https://localhost:8080/",
          "height": 36
        }
      },
      "source": [
        "# 복습 7\n",
        "# 위에서 만든 변수 birthday의 데이터타입 출력\n",
        "type(birthday)"
      ],
      "execution_count": null,
      "outputs": [
        {
          "output_type": "execute_result",
          "data": {
            "text/plain": [
              "str"
            ]
          },
          "metadata": {
            "tags": []
          },
          "execution_count": 12
        }
      ]
    },
    {
      "cell_type": "markdown",
      "metadata": {
        "id": "v8QtmFn2TbZy"
      },
      "source": [
        "#### 데이터타입 변경하기\n",
        "변경하려는 데이터타입으로 감싸주기\n",
        "</br>\n",
        "</br>\n",
        "정수(int)로 변경하기\n",
        "```\n",
        "int(변수)\n",
        "```\n",
        "실수(float)로 변경하기\n",
        "```\n",
        "float(변수)\n",
        "```\n",
        "문자(str)로 변경하기\n",
        "```\n",
        "str(변수)\n",
        "```"
      ]
    },
    {
      "cell_type": "code",
      "metadata": {
        "id": "I-pZHRcvGx5D",
        "outputId": "fdfd9051-3698-45b8-cf3a-6bd7a645ff2d",
        "colab": {
          "base_uri": "https://localhost:8080/",
          "height": 36
        }
      },
      "source": [
        "# 복습 8\n",
        "# 위에서 만든 변수 birthday를 정수로 변경하고 \n",
        "# 데이터 타입 출력해보기\n",
        "birthday = int(birthday)\n",
        "type(birthday)"
      ],
      "execution_count": null,
      "outputs": [
        {
          "output_type": "execute_result",
          "data": {
            "text/plain": [
              "int"
            ]
          },
          "metadata": {
            "tags": []
          },
          "execution_count": 14
        }
      ]
    },
    {
      "cell_type": "markdown",
      "metadata": {
        "id": "6Bk7mvyPUZWK"
      },
      "source": [
        "### 미니 프로젝트\n",
        "\n",
        "1. 원의 반지름을 입력받아\n",
        "2. 원의 둘레(c_len), 넓이(c_area),  구의 넓이(s_area), 구의 부피(s_volume)를 구하는 프로그램을 작성하시오. \n",
        "\n",
        "<img src='https://github.com/Ahnjihye/allinone_AI/blob/images/36_%EC%9B%90%20%EB%84%93%EC%9D%B4,%20%EB%91%98%EB%A0%88%20%EB%93%B1.png?raw=true' width = 400>\n",
        "\n",
        "pie = 3.141592"
      ]
    },
    {
      "cell_type": "code",
      "metadata": {
        "id": "Hu3jHckrT_PJ",
        "outputId": "0fc8f66a-6df9-4b2d-a6d6-47152127bb77",
        "colab": {
          "base_uri": "https://localhost:8080/",
          "height": 92
        }
      },
      "source": [
        "pie = 3.141592\n",
        "r = input('반지름 입력 : ')\n",
        "r = float(r)\n",
        "\n",
        "c_len = 2 * pie * r\n",
        "c_area = pie * r **2\n",
        "s_area = 4 * pie * r\n",
        "s_volume = 4/3 * pie * r ** 3\n",
        "\n",
        "print('원의 둘레와 넓이는',c_len, c_area)\n",
        "print('구의 겉넓이와 부피는',s_area, s_volume)"
      ],
      "execution_count": null,
      "outputs": [
        {
          "output_type": "stream",
          "text": [
            "반지름 입력 : 8.5\n",
            "입력한 반지름은 8.5\n",
            "원의 둘레와 넓이는 53.407064000000005 226.98002200000002\n",
            "구의 겉넓이와 부피는 106.81412800000001 2572.440249333333\n"
          ],
          "name": "stdout"
        }
      ]
    },
    {
      "cell_type": "markdown",
      "metadata": {
        "id": "q05bhR8dZ6C1"
      },
      "source": [
        "# 2. 선택구조 - 조건문\n",
        "\n",
        "지금까지의 명령어는 항상 실행되는 명령어 \n",
        "</br>\n",
        "</br>\n",
        "조건을 충족할 때만 실행되거나/ 실행되지 않는 명령어\n",
        "</br>\n",
        "</br>\n",
        "<img src='https://github.com/Ahnjihye/allinone_AI/blob/images/10_%EC%84%A0%ED%83%9D%EA%B5%AC%EC%A1%B0%20%EC%98%88%EC%8B%9C%20png.png?raw=true' >\n",
        "\n",
        "**선택구조 : 조건을 충족할 때에만 선택적으로 실행되는 명령어**\n",
        "</br>\n",
        "**=조건문 이라고도 함**\n"
      ]
    },
    {
      "cell_type": "markdown",
      "metadata": {
        "id": "diXyIg91fcvX"
      },
      "source": [
        "< 생각해보기 >     \n",
        "일상생활에서 조건문의 예시는 뭐가 있을까? \n",
        "\n",
        "더블클릭하여 아래 빈칸에 예시를 세개 이상 작성해보자. \n",
        "\n",
        "1.   예시1 작성\n",
        "\n",
        "2.   예시2 작성\n",
        "\n",
        "3.   예시3 작성\n",
        "\n"
      ]
    },
    {
      "cell_type": "markdown",
      "metadata": {
        "id": "auukEYYpfagS"
      },
      "source": [
        "**파이썬으로 if- 조건문 표현하는 방법** \n",
        "<img src = 'https://github.com/Ahnjihye/allinone_AI/blob/images/10_%EC%84%A0%ED%83%9D%EA%B5%AC%EC%A1%B0.png?raw=true' width = 500>\n",
        "\n",
        "```\n",
        "if 성인 : \n",
        "    print('술을 구매할 수 있습니다')\n",
        "```"
      ]
    },
    {
      "cell_type": "code",
      "metadata": {
        "id": "h0ZqzomwdwS1",
        "outputId": "e6ee9a65-d2bc-4122-a10a-467f1493b049",
        "colab": {
          "base_uri": "https://localhost:8080/",
          "height": 36
        }
      },
      "source": [
        "age = 23\n",
        "\n",
        "if age > 19 : \n",
        "    print('술을 구매할 수 있습니다!')"
      ],
      "execution_count": null,
      "outputs": [
        {
          "output_type": "stream",
          "text": [
            "술을 구매할 수 있습니다!\n"
          ],
          "name": "stdout"
        }
      ]
    },
    {
      "cell_type": "code",
      "metadata": {
        "id": "Dx6fipiEc7vy"
      },
      "source": [
        "age = 17       # 값 변경\n",
        "\n",
        "if age > 19 : \n",
        "    print('술을 구매할 수 있습니다!')"
      ],
      "execution_count": null,
      "outputs": []
    },
    {
      "cell_type": "markdown",
      "metadata": {
        "id": "nMMXlvZcgwI8"
      },
      "source": [
        "조건문에서는 들여쓰기를 조심하세요!\n",
        "</br>\n",
        "<img src ='https://github.com/Ahnjihye/allinone_AI/blob/images/10_%EC%84%A0%ED%83%9D%EA%B5%AC%EC%A1%B0%20%EB%93%A4%EC%97%AC%EC%93%B0%EA%B8%B0%20png.png?raw=true' width=200>\n",
        "</br>\n",
        "</br>\n",
        "**코랩 탭설정하기**</br>\n",
        "<img src='https://github.com/Ahnjihye/allinone_AI/blob/images/37_%EC%BD%94%EB%9E%A9%20%ED%83%AD%EC%84%A4%EC%A0%95.png?raw=true\n",
        "' width=400>"
      ]
    },
    {
      "cell_type": "code",
      "metadata": {
        "id": "67u3jd-BZt61"
      },
      "source": [
        "# 조건을 변경하여 \n",
        "# 미성년자일 경우 술을 구매할 수 없다고 출력하기\n",
        "age = 17     \n",
        "\n",
        "if age <= 19 : \n",
        "    print('미성년자는 술을 구매할 수 없습니다!')"
      ],
      "execution_count": null,
      "outputs": []
    },
    {
      "cell_type": "code",
      "metadata": {
        "id": "8cqgUnP7hwQ9"
      },
      "source": [
        "# 실습 1\n",
        "# 나이를 입력받고, 입력받은 나이가 미성년자이면\n",
        "# 술을 구매할 수 없다고 출력하기\n",
        "age = input('나이가 어떻게 되세요?')\n",
        "age = int(age)\n",
        "\n",
        "if age < 20 : \n",
        "    print('술을 구매할 수 없습니다.')"
      ],
      "execution_count": null,
      "outputs": []
    },
    {
      "cell_type": "code",
      "metadata": {
        "id": "3Tbd7iG-iUPY",
        "outputId": "51f37e32-b9a7-4551-b31f-cd202b69ac60",
        "colab": {
          "base_uri": "https://localhost:8080/",
          "height": 36
        }
      },
      "source": [
        "# 실습 2 - 위 코드에 다음을 추가하시오\n",
        "# **년 후 성인이 되면 다시 오세요! \n",
        "# **은 성인이 되기까지 남은 햇수 (18세는 2년후, 17세는 3년후 출력)\n",
        "age = input('나이가 어떻게 되세요?')\n",
        "age = int(age)\n",
        "\n",
        "if age < 20 : \n",
        "    print('술을 구매할 수 없습니다.')\n",
        "    print(20-age,'년 후 성인이 되면 다시 오세요!')"
      ],
      "execution_count": null,
      "outputs": [
        {
          "output_type": "stream",
          "text": [
            "나이가 어떻게 되세요?37\n"
          ],
          "name": "stdout"
        }
      ]
    },
    {
      "cell_type": "markdown",
      "metadata": {
        "id": "3AnRvY7AjCVx"
      },
      "source": [
        "<img src = 'https://github.com/Ahnjihye/allinone_AI/blob/images/10_%EC%84%A0%ED%83%9D%EA%B5%AC%EC%A1%B0%20%EB%8F%99%EC%9E%91%EC%9B%90%EB%A6%AC.png?raw=true' width =800>"
      ]
    },
    {
      "cell_type": "code",
      "metadata": {
        "id": "YX69e0-HjVBN",
        "outputId": "f23d02e8-960c-4b65-cab2-1f73cebe557a",
        "colab": {
          "base_uri": "https://localhost:8080/",
          "height": 73
        }
      },
      "source": [
        "# 실습 3\n",
        "# 인터넷 쇼핑몰에서 구매금액이 5만원 미만일 경우\n",
        "# 배송비 2500원을 더 결제해야 한다. \n",
        "# 구매금액을 입력받아, 총 결제금액을 출력하시오\n",
        "price = input('구매금액? ')\n",
        "price = int(price)\n",
        "\n",
        "if price < 50000 : \n",
        "    print('배송비 2500원이 추가됩니다.')\n",
        "    price = price + 2500\n",
        "\n",
        "print('총 결제금액은',price)"
      ],
      "execution_count": null,
      "outputs": [
        {
          "output_type": "stream",
          "text": [
            "구매금액? 30000\n",
            "배송비 2500원이 추가됩니다.\n",
            "총 결제금액은 32500\n"
          ],
          "name": "stdout"
        }
      ]
    },
    {
      "cell_type": "markdown",
      "metadata": {
        "id": "5UoZCtxCjQsE"
      },
      "source": [
        "# 3. 조건을 만드는 비교연산자\n",
        "\n",
        "```\n",
        "if a > b :        # a가 b보다 크다면\n",
        "if a >= b :       # a가 b보다 크거나 같다면\n",
        "if a < b :        # a가 b보다 작다면\n",
        "if a <= b :       # a가 b보다 작거나 같다면\n",
        "```\n",
        "**헷갈리기 쉬운 비교연산자**\n",
        "```\n",
        "if a == b :       # a와 b가 같다면\n",
        "if a != b :       # a와 b가 같지 않다면\n",
        "```\n",
        "\n"
      ]
    },
    {
      "cell_type": "code",
      "metadata": {
        "id": "IQS3G9PRhwTS",
        "outputId": "30908ad7-3009-42e8-f901-e83771934a9e",
        "colab": {
          "base_uri": "https://localhost:8080/",
          "height": 34
        }
      },
      "source": [
        "# 평일, 주말 여부를 입력받고\n",
        "# 평일이라면 아침 7시 기상! 주말이라면 아침 10시 기상을 출력하시오\n",
        "day = input('오늘은 평일입니까? 주말입니까?')\n",
        "\n",
        "if day == '평일' : \n",
        "    print('아침 7시 기상')\n",
        "\n",
        "if day == '주말' :\n",
        "    print('아침 10시 기상')"
      ],
      "execution_count": 31,
      "outputs": [
        {
          "output_type": "stream",
          "text": [
            "오늘은 평일입니까? 주말입니까? \n"
          ],
          "name": "stdout"
        }
      ]
    },
    {
      "cell_type": "code",
      "metadata": {
        "id": "0ZoCjXlX-R_t",
        "outputId": "1e264d3d-fe8d-4577-fde1-b51aa85e7cce",
        "colab": {
          "base_uri": "https://localhost:8080/",
          "height": 52
        }
      },
      "source": [
        "# 실습 4\n",
        "# 숫자 하나를 입력받고, 해당 숫자가 홀수라면 '홀수입니다' 출력\n",
        "# 짝수라면 '짝수입니다'를 출력하시오\n",
        "num = input('숫자를 입력해주세요 ')\n",
        "num = int(num)\n",
        "\n",
        "if num % 2 == 1 : \n",
        "    print('홀수입니다. ')\n",
        "if num % 2 == 0 : \n",
        "    print('짝수입니다. ')"
      ],
      "execution_count": 33,
      "outputs": [
        {
          "output_type": "stream",
          "text": [
            "숫자를 입력해주세요 0\n",
            "짝수입니다. \n"
          ],
          "name": "stdout"
        }
      ]
    },
    {
      "cell_type": "markdown",
      "metadata": {
        "id": "q6Og10fmCgjg"
      },
      "source": [
        "<img src = 'https://github.com/Ahnjihye/allinone_AI/blob/images/11_%EC%84%A0%ED%83%9D%EA%B5%AC%EC%A1%B0_%EC%B0%A8%EB%9F%89%EC%9D%B4%EB%B6%80%EC%A0%9C.png?raw=true' width = 800>"
      ]
    },
    {
      "cell_type": "markdown",
      "metadata": {
        "id": "xJvaY1-4q3zB"
      },
      "source": [
        "# 4. 조건을 충족하지 않을 때 실행하는 명령어 if-else \n",
        "\n",
        "\n",
        "<img src = 'https://github.com/Ahnjihye/allinone_AI/blob/images/11_%EC%84%A0%ED%83%9D%EA%B5%AC%EC%A1%B02%20-%20%EC%98%88%EC%8B%9C.png?raw=true' width = 300>\n",
        "\n",
        "<img src = 'https://github.com/Ahnjihye/allinone_AI/blob/images/11_%EC%84%A0%ED%83%9D%EA%B5%AC%EC%A1%B02.png?raw=true' width= 500>"
      ]
    },
    {
      "cell_type": "code",
      "metadata": {
        "id": "nHn8Pn6NhwaF",
        "outputId": "95bb8b47-8c43-4925-cbb6-fecacb613b95",
        "colab": {
          "base_uri": "https://localhost:8080/",
          "height": 52
        }
      },
      "source": [
        "# 위 코드 바꿔보기 \n",
        "# 숫자 하나를 입력받고, 해당 숫자가 홀수라면 '홀수입니다' 출력\n",
        "# 짝수라면 '짝수입니다'를 출력하시오\n",
        "num = input('숫자를 입력해주세요 ')\n",
        "num = int(num)\n",
        "\n",
        "if num % 2 == 1 : \n",
        "    print('홀수입니다. ')\n",
        "else : \n",
        "    print('짝수입니다. ')"
      ],
      "execution_count": 29,
      "outputs": [
        {
          "output_type": "stream",
          "text": [
            "숫자를 입력해주세요 432\n",
            "짝수입니다. \n"
          ],
          "name": "stdout"
        }
      ]
    },
    {
      "cell_type": "code",
      "metadata": {
        "id": "HxzLlEX6hwXf",
        "outputId": "1749f397-dfd2-4b0d-b981-981faf21d18c",
        "colab": {
          "base_uri": "https://localhost:8080/",
          "height": 52
        }
      },
      "source": [
        "# 실습 5\n",
        "# 차량 이부제 프로그래밍\n",
        "# 오늘 일자를 입력받고, 오늘이 짝수날이라면 '짝수번호 차량만 통행 가능합니다.' 출력\n",
        "# 오늘이 홀수날이라면 '홀수번호 차량만 통행가능합니다.' 출력\n",
        "date = input('오늘 일자를 입력해주세요 ')\n",
        "date = int(day)\n",
        "\n",
        "if date %2 == 0 : \n",
        "    print('짝수번호 차량만 통행 가능합니다. ')\n",
        "else : \n",
        "    print('홀수번호 차량만 통행 가능합니다. ')\n"
      ],
      "execution_count": 30,
      "outputs": [
        {
          "output_type": "stream",
          "text": [
            "오늘 일자를 입력해주세요19\n",
            "홀수번호 차량만 통행 가능합니다. \n"
          ],
          "name": "stdout"
        }
      ]
    },
    {
      "cell_type": "code",
      "metadata": {
        "id": "Lbarsr94hwcP"
      },
      "source": [
        "# 실습 6\n",
        "# 목욕탕 입장료는 미성년자가 6000원, 성인이 15000원이다. \n",
        "# 나이를 입력받아 나이에 맞는 목욕탕 입장료를 출력하시오\n",
        "# 단, 나이를 저장하는 변수는 age, 목욕탕 입장료를 저장하는 변수는 price이다. \n",
        "age = input('나이가 어떻게 되십니까?')\n",
        "age = int(age)\n",
        "\n",
        "if age <20 : \n",
        "    price = 6000\n",
        "else : \n",
        "    price = 15000\n",
        "\n",
        "print(age,'살의 입장료는',price,'원 입니다. ')"
      ],
      "execution_count": null,
      "outputs": []
    },
    {
      "cell_type": "code",
      "metadata": {
        "id": "q1__nsMXhweR"
      },
      "source": [
        ""
      ],
      "execution_count": null,
      "outputs": []
    },
    {
      "cell_type": "code",
      "metadata": {
        "id": "TQL998NAhwgn"
      },
      "source": [
        ""
      ],
      "execution_count": null,
      "outputs": []
    },
    {
      "cell_type": "code",
      "metadata": {
        "id": "NNHv_M1shwiv"
      },
      "source": [
        ""
      ],
      "execution_count": null,
      "outputs": []
    },
    {
      "cell_type": "code",
      "metadata": {
        "id": "owMpdMhdhwk-"
      },
      "source": [
        ""
      ],
      "execution_count": null,
      "outputs": []
    },
    {
      "cell_type": "code",
      "metadata": {
        "id": "-6JtQAynhwps"
      },
      "source": [
        ""
      ],
      "execution_count": null,
      "outputs": []
    },
    {
      "cell_type": "code",
      "metadata": {
        "id": "XYoUqHJIhwry"
      },
      "source": [
        ""
      ],
      "execution_count": null,
      "outputs": []
    },
    {
      "cell_type": "code",
      "metadata": {
        "id": "amuf2uc8hwt7"
      },
      "source": [
        ""
      ],
      "execution_count": null,
      "outputs": []
    }
  ]
}