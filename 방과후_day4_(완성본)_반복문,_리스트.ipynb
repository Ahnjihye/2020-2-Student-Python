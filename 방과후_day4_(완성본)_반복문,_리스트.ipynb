{
  "nbformat": 4,
  "nbformat_minor": 0,
  "metadata": {
    "colab": {
      "name": "방과후 day4 (완성본) 반복문, 리스트.ipynb",
      "provenance": [],
      "collapsed_sections": [],
      "authorship_tag": "ABX9TyOV+6sV9fas7J6IhtwfOrz+",
      "include_colab_link": true
    },
    "kernelspec": {
      "name": "python3",
      "display_name": "Python 3"
    }
  },
  "cells": [
    {
      "cell_type": "markdown",
      "metadata": {
        "id": "view-in-github",
        "colab_type": "text"
      },
      "source": [
        "<a href=\"https://colab.research.google.com/github/Ahnjihye/2020-2-Student-Python/blob/main/%EB%B0%A9%EA%B3%BC%ED%9B%84_day4_(%EC%99%84%EC%84%B1%EB%B3%B8)_%EB%B0%98%EB%B3%B5%EB%AC%B8%2C_%EB%A6%AC%EC%8A%A4%ED%8A%B8.ipynb\" target=\"_parent\"><img src=\"https://colab.research.google.com/assets/colab-badge.svg\" alt=\"Open In Colab\"/></a>"
      ]
    },
    {
      "cell_type": "markdown",
      "metadata": {
        "id": "ZstKKkcrGzaS"
      },
      "source": [
        "# 1. 복습"
      ]
    },
    {
      "cell_type": "markdown",
      "metadata": {
        "id": "IOdruSfrLTi4"
      },
      "source": [
        "#### 1-1. 입력받아 변수에 저장하기\n",
        "\n",
        "> 변수이름 = input()\n",
        "\n",
        "<img src=\"https://github.com/Ahnjihye/allinone_AI/blob/images/%EC%9D%B4%EB%AF%B8%EC%A7%80%20003.png?raw=true\" width=400>\n"
      ]
    },
    {
      "cell_type": "markdown",
      "metadata": {
        "id": "7PSfMqiCMKvK"
      },
      "source": [
        "#### 1-2. 변수의 데이터타입 \n",
        "\n",
        "변수에 저장된 데이터에 따라 변수의 데이터타입이 결정된다!\n",
        "\n",
        "> 정수 int\n",
        "\n",
        "> 실수 float\n",
        "\n",
        "> 문자 str\n",
        "\n"
      ]
    },
    {
      "cell_type": "markdown",
      "metadata": {
        "id": "v8QtmFn2TbZy"
      },
      "source": [
        "#### 1-3. 데이터타입 변경하기\n",
        "변경하려는 데이터타입으로 감싸주기\n",
        "</br>\n",
        "</br>\n",
        "정수(int)로 변경하기\n",
        "> int(변수)\n",
        "\n",
        "실수(float)로 변경하기\n",
        "> float(변수)\n",
        "\n",
        "문자(str)로 변경하기\n",
        "> str(변수)\n"
      ]
    },
    {
      "cell_type": "markdown",
      "metadata": {
        "id": "v78MI_b5UfzP"
      },
      "source": [
        "\n",
        "#### ★ 복습 1 : 대입 점수환산 시스템\n",
        "```\n",
        "국어 16%, 수학 34%, 영어 23%로 반영하는 대학\n",
        "국어점수, 수학점수, 영어점수를 각각 입력받아 최종 점수를 출력하기\n",
        "\n",
        "최종 결과 : 최종 점수는 **000**\n",
        "```\n",
        "\n"
      ]
    },
    {
      "cell_type": "code",
      "metadata": {
        "id": "QP7a1IQ8P0hM",
        "outputId": "bc4c7b1f-adc1-41cc-aeb4-3275e66354fb",
        "colab": {
          "base_uri": "https://localhost:8080/"
        }
      },
      "source": [
        "# 복습 1 - 대입 점수환산 시스템 \n",
        "kor = input('국어점수는? ')\n",
        "kor = int(kor)\n",
        "mat = input('수학점수는? ')\n",
        "mat = int(mat)\n",
        "eng = input('영어점수는? ')\n",
        "eng = int(eng)\n",
        "\n",
        "score = kor*0.16 + mat*0.34 + eng*0.23\n",
        "print('최종 점수는',score)"
      ],
      "execution_count": null,
      "outputs": [
        {
          "output_type": "stream",
          "text": [
            "국어점수는? 90\n",
            "수학점수는? 78\n",
            "영어점수는? 97\n",
            "최종 점수는 63.230000000000004\n"
          ],
          "name": "stdout"
        }
      ]
    },
    {
      "cell_type": "markdown",
      "metadata": {
        "id": "q05bhR8dZ6C1"
      },
      "source": [
        "### 선택구조 (조건문)\n",
        "\n",
        "**선택구조 : 조건을 충족할 때에만 선택적으로 실행되는 명령어**\n",
        "</br>\n",
        "**=조건문 이라고도 함**\n",
        "\n"
      ]
    },
    {
      "cell_type": "markdown",
      "metadata": {
        "id": "auukEYYpfagS"
      },
      "source": [
        "#### 1-4. if- 조건문\n",
        "> 만약 AAA 라면  : </br>\n",
        ">    BBB 해라~\n",
        "  \n",
        "\n",
        "<img src = 'https://github.com/Ahnjihye/allinone_AI/blob/images/10_%EC%84%A0%ED%83%9D%EA%B5%AC%EC%A1%B0.png?raw=true' width = 500>\n",
        "\n",
        "```\n",
        "if 성인 : \n",
        "    print('술을 구매할 수 있습니다')\n",
        "```\n",
        "</br></br>\n",
        "\n",
        "#### 1-5. if-else- 조건문\n",
        "> 만약 AAA 라면  : </br>\n",
        ">    BBB 해라~ </br>\n",
        "> 그렇지 않다면 : </br>\n",
        ">    CCC 해라\n",
        "\n",
        "<img src = 'https://github.com/Ahnjihye/allinone_AI/blob/images/11_%EC%84%A0%ED%83%9D%EA%B5%AC%EC%A1%B02.png?raw=true' width= 500>\n",
        "\n",
        "```\n",
        "if 성인 : \n",
        "    print('술을 구매할 수 있습니다')\n",
        "else : \n",
        "    print(20-age,'년 후에 오세요! ')\n",
        "```\n",
        " "
      ]
    },
    {
      "cell_type": "markdown",
      "metadata": {
        "id": "Yz3hBUSRTvfl"
      },
      "source": [
        "<img src='https://github.com/Ahnjihye/allinone_AI/blob/images/42_if-else.png?raw=true' width=700 >"
      ]
    },
    {
      "cell_type": "markdown",
      "metadata": {
        "id": "bPlT1z3-RwU2"
      },
      "source": [
        "#### 1-6. 헷갈리기 쉬운 비교연산자\n",
        "\n",
        "a와 b가 같다면\n",
        "> if a == b :      \n",
        "\n",
        "</br>\n",
        "\n",
        "a와 b가 같지 않다면\n",
        "\n",
        "> if a != b :   \n"
      ]
    },
    {
      "cell_type": "markdown",
      "metadata": {
        "id": "kLlhbmxaU5Br"
      },
      "source": [
        "\n",
        "#### ★ 복습 2 : 자동 출석 시스템 \n",
        "```\n",
        "출석 혹은 결석을 입력받아 출석이면 O을 출력, 결석이면 X를 출력하기\n",
        "입력안내문 : 출석 혹은 결석을 입력하세요\n",
        "```\n",
        "\n"
      ]
    },
    {
      "cell_type": "code",
      "metadata": {
        "id": "7TAwKdmcTpUu"
      },
      "source": [
        "# 복습 2 : 자동 출석 시스템 \n",
        "check = input('출석 혹은 결석을 입력하세요 ')\n",
        "if check == '출석' : \n",
        "    print('0')\n",
        "else : \n",
        "    print('X')"
      ],
      "execution_count": null,
      "outputs": []
    },
    {
      "cell_type": "markdown",
      "metadata": {
        "id": "4aNNRA40U-_H"
      },
      "source": [
        "\n",
        "#### ★ 복습 3 : 스마트 에어컨\n",
        "```\n",
        "온도를 입력받고, 입력받은 온도가 26.5미만이면 설정 온도를 +2하시오.\n",
        "입력받은 온도가 26.5 이상이라면 설정 온도를 -1 하시오.\n",
        "\n",
        "입력 안내문 : 현재 온도는? \n",
        "최종 온도 출력 : 새롭게 설정된 온도 26.5\n",
        "```\n",
        "\n"
      ]
    },
    {
      "cell_type": "code",
      "metadata": {
        "id": "vXNeYzazS2cw",
        "outputId": "f9658fab-80a0-485e-e5ca-e37789158e80",
        "colab": {
          "base_uri": "https://localhost:8080/"
        }
      },
      "source": [
        "# 복습 3 : 스마트 에어컨\n",
        "temp = input('현재 온도는? ')\n",
        "temp = float(temp)\n",
        "\n",
        "if temp < 26.5 : \n",
        "    temp += 2\n",
        "else :\n",
        "    temp -= 1\n",
        "print('새롭게 설정된 온도', temp)"
      ],
      "execution_count": null,
      "outputs": [
        {
          "output_type": "stream",
          "text": [
            "현재 온도는? 28.5\n",
            "새롭게 설정된 온도 27.5\n"
          ],
          "name": "stdout"
        }
      ]
    },
    {
      "cell_type": "markdown",
      "metadata": {
        "id": "qznby5f6VGZO"
      },
      "source": [
        "\n",
        "#### ★ 복습 4 : 차량 이부제 프로그램\n",
        "```\n",
        "오늘 일자를 입력받고, 오늘이 짝수날이라면 '짝수번호 차량만 통행 가능합니다.' 출력\n",
        "오늘이 홀수날이라면 '홀수번호 차량만 통행가능합니다.' 출력\n",
        "```\n",
        "\n"
      ]
    },
    {
      "cell_type": "code",
      "metadata": {
        "id": "HxzLlEX6hwXf",
        "outputId": "1749f397-dfd2-4b0d-b981-981faf21d18c",
        "colab": {
          "base_uri": "https://localhost:8080/",
          "height": 52
        }
      },
      "source": [
        "# 복습 4 : 차량 이부제 프로그래밍\n",
        "date = input('오늘 일자를 입력해주세요 ')\n",
        "date = int(day)\n",
        "\n",
        "if date %2 == 0 : \n",
        "    print('짝수번호 차량만 통행 가능합니다. ')\n",
        "else : \n",
        "    print('홀수번호 차량만 통행 가능합니다. ')\n"
      ],
      "execution_count": null,
      "outputs": [
        {
          "output_type": "stream",
          "text": [
            "오늘 일자를 입력해주세요19\n",
            "홀수번호 차량만 통행 가능합니다. \n"
          ],
          "name": "stdout"
        }
      ]
    },
    {
      "cell_type": "markdown",
      "metadata": {
        "id": "PqxnHlzXhhsE"
      },
      "source": [
        "#### 1-7. 반복구조\n",
        "> 같은 명령을 여러번 반복하는 반복문\n",
        "</br>\n",
        "\n",
        "\n",
        "**a = 변수**\n",
        "**data = 여러 값이 묶어져 있는 데이터묶음**\n",
        "</br>\n",
        "</br>\n",
        "<img src='https://github.com/Ahnjihye/allinone_AI/blob/images/4_%EB%B0%98%EB%B3%B5%EB%AC%B8.png?raw=true' width = 500>\n",
        "\n",
        "\n"
      ]
    },
    {
      "cell_type": "markdown",
      "metadata": {
        "id": "uPOaodCna9-w"
      },
      "source": [
        "```\n",
        "for a in [1, 2, 3, 4, 5] :\n",
        "    print('안녕하세요')\n",
        "```\n",
        "\n",
        "<img src ='https://github.com/Ahnjihye/allinone_AI/blob/images/5_%EB%B0%98%EB%B3%B5%EB%AC%B8%20%EB%8F%99%EC%9E%91%EA%B5%AC%EC%A1%B0.png?raw=true' width=500>"
      ]
    },
    {
      "cell_type": "markdown",
      "metadata": {
        "id": "AQcGkm7pZ5lZ"
      },
      "source": [
        "#### ★ 복습 5 \n",
        "```\n",
        "데이터묶음 ['사과','배','감','포도','귤','바나나'] 의 원소를 하나씩 출력하는 프로그램을 반복문을 활용하여 작성하시오 \n",
        "출력 형태 : [과일]을/를 먹는 중입니다.\n",
        "```\n"
      ]
    },
    {
      "cell_type": "code",
      "metadata": {
        "id": "SJFF5jPxkqsk",
        "outputId": "11ef44c7-aaf7-4ce4-d822-8fb78b87de25",
        "colab": {
          "base_uri": "https://localhost:8080/"
        }
      },
      "source": [
        "for i in ['사과','배','감','포도','귤','바나나'] : \n",
        "    print(i,'을/를 먹는 중입니다.')"
      ],
      "execution_count": null,
      "outputs": [
        {
          "output_type": "stream",
          "text": [
            "사과 을/를 먹는 중입니다.\n",
            "배 을/를 먹는 중입니다.\n",
            "감 을/를 먹는 중입니다.\n",
            "포도 을/를 먹는 중입니다.\n",
            "귤 을/를 먹는 중입니다.\n",
            "바나나 을/를 먹는 중입니다.\n"
          ],
          "name": "stdout"
        }
      ]
    },
    {
      "cell_type": "markdown",
      "metadata": {
        "id": "VZLoaZtUYdp5"
      },
      "source": [
        "\n",
        "#### ★ 복습 6\n",
        "```\n",
        "데이터묶음 [5, 6, 7, 8, 9, 10] 의 원소를 하나씩 출력하는 프로그램을 반복문을 활용하여 작성하시오 \n",
        "```\n",
        "\n"
      ]
    },
    {
      "cell_type": "code",
      "metadata": {
        "id": "j2hqR-LRkmgL",
        "outputId": "82a7dad7-5683-4fe7-b6dc-d638625fa78b",
        "colab": {
          "base_uri": "https://localhost:8080/"
        }
      },
      "source": [
        "for i in [5, 6, 7, 8, 9, 10]: \n",
        "    print(i)"
      ],
      "execution_count": null,
      "outputs": [
        {
          "output_type": "stream",
          "text": [
            "5\n",
            "6\n",
            "7\n",
            "8\n",
            "9\n",
            "10\n"
          ],
          "name": "stdout"
        }
      ]
    },
    {
      "cell_type": "markdown",
      "metadata": {
        "id": "dEC0F4KWk1G7"
      },
      "source": [
        "#### 1-8. range(a, b) - 연속된 숫자 간단하게 표현하기\n",
        "\n",
        "> range(a, b)\n",
        "</br> a부터 시작해 b가되면 종료한다. "
      ]
    },
    {
      "cell_type": "markdown",
      "metadata": {
        "id": "wTVk13Xsak2g"
      },
      "source": [
        "\n",
        "#### ★ 복습 7\n",
        "```\n",
        "복습 6의 프로그램을 range()를 사용하여 작성하시오 \n",
        "```\n",
        "\n"
      ]
    },
    {
      "cell_type": "code",
      "metadata": {
        "id": "peBW2lV2kuPb",
        "outputId": "daa57c41-ab7a-4909-bfcc-b6a32b3cdb17",
        "colab": {
          "base_uri": "https://localhost:8080/"
        }
      },
      "source": [
        "for i in range(5, 11): \n",
        "    print(i)"
      ],
      "execution_count": null,
      "outputs": [
        {
          "output_type": "stream",
          "text": [
            "5\n",
            "6\n",
            "7\n",
            "8\n",
            "9\n",
            "10\n"
          ],
          "name": "stdout"
        }
      ]
    },
    {
      "cell_type": "markdown",
      "metadata": {
        "id": "L_9bSbzIySFd"
      },
      "source": [
        "#### range(a, b)의 특성\n",
        "> range(시작숫자, 종료숫자) 에서 종료숫자는 범위에 포함되지 않는다!!\n",
        "</br>\n",
        "> 시작숫자 ~ 종료숫자-1 까지 반복됨 "
      ]
    },
    {
      "cell_type": "markdown",
      "metadata": {
        "id": "JdaJm0DAbsnK"
      },
      "source": [
        "#### ★ 복습 8\n",
        "```\n",
        "반복문을 활용하여 1부터 50까지 모든 숫자의 합을 구하는 프로그램을 작성하시오\n",
        "```"
      ]
    },
    {
      "cell_type": "code",
      "metadata": {
        "id": "DiMjC-7RkuSe",
        "outputId": "08e74f18-79c9-4e4f-ccd6-d7e57ff88f60",
        "colab": {
          "base_uri": "https://localhost:8080/"
        }
      },
      "source": [
        "# 복습 8 : 1부터 50까지의 합 구하기\n",
        "result = 0\n",
        "\n",
        "for i in range(1,51): \n",
        "    result += i\n",
        "\n",
        "print(result)"
      ],
      "execution_count": null,
      "outputs": [
        {
          "output_type": "stream",
          "text": [
            "1275\n"
          ],
          "name": "stdout"
        }
      ]
    },
    {
      "cell_type": "markdown",
      "metadata": {
        "id": "XxviOXTTb3cA"
      },
      "source": [
        "#### ★ 복습 9\n",
        "```\n",
        "숫자 하나를 입력받아 num에 저장한 후, 1부터 해당 숫자까지의 합을 구하는 프로그램을 작성하시오.\n",
        "```"
      ]
    },
    {
      "cell_type": "code",
      "metadata": {
        "id": "Gki9Z2p5305J"
      },
      "source": [
        "# 복습 9 : 숫자 하나 입력받아 1부터 해당 숫자까지늬 합 구하는 프로그램 작성하기\n",
        "\n"
      ],
      "execution_count": null,
      "outputs": []
    },
    {
      "cell_type": "markdown",
      "metadata": {
        "id": "Q4ioDc-ry82C"
      },
      "source": [
        "#### range(종료숫자) - 시작숫자를 생략하기!!\n",
        ">  range()에서 시작숫자를 생략할 수 있다. \n",
        "</br>\n",
        "> range(종료숫자)    :    0 ~ 종료숫자-1  "
      ]
    },
    {
      "cell_type": "markdown",
      "metadata": {
        "id": "Tz0WMJ1vcHLl"
      },
      "source": [
        "#### ★ 복습 10\n",
        "```\n",
        "'선생님, 다시는 청소를 빼먹지 않겠습니다'를 \n",
        "10번 반복하는 프로그램을 작성하시오\n",
        "-> range(종료숫자) 활용하기\n",
        "```"
      ]
    },
    {
      "cell_type": "code",
      "metadata": {
        "id": "ogsUKemgkupM"
      },
      "source": [
        "# 복습 10 : '선생님, 다시는 청소를 빼먹지 않겠습니다' 10번 반복\n"
      ],
      "execution_count": null,
      "outputs": []
    },
    {
      "cell_type": "markdown",
      "metadata": {
        "id": "JSqYaebGcc8I"
      },
      "source": [
        "#### ★ 복습 11\n",
        "```\n",
        "반복문을 활용하여 구구단 4단을 다음과 같은 형태로 출력하시오. \n",
        "```\n",
        "<img src ='https://github.com/Ahnjihye/allinone_AI/blob/images/44_%EA%B5%AC%EA%B5%AC%EB%8B%A84%EB%8B%A8.png?raw=true' width = 100>\n",
        "\n",
        "Hint : 변하는 부분과 변하지 않는 부분 파악하기"
      ]
    },
    {
      "cell_type": "code",
      "metadata": {
        "id": "aynb2Yvl4YQK",
        "outputId": "f157c733-d0ec-429a-ccf9-e4afb7cb82b4",
        "colab": {
          "base_uri": "https://localhost:8080/"
        }
      },
      "source": [
        "# 복습 11 : 구구단 4단 출력하기\n",
        "\n"
      ],
      "execution_count": null,
      "outputs": [
        {
          "output_type": "stream",
          "text": [
            "4 x 1 = 4\n",
            "4 x 2 = 8\n",
            "4 x 3 = 12\n",
            "4 x 4 = 16\n",
            "4 x 5 = 20\n",
            "4 x 6 = 24\n",
            "4 x 7 = 28\n",
            "4 x 8 = 32\n",
            "4 x 9 = 36\n"
          ],
          "name": "stdout"
        }
      ]
    },
    {
      "cell_type": "markdown",
      "metadata": {
        "id": "Hur3AD_Q6FWA"
      },
      "source": [
        "<img src='https://github.com/Ahnjihye/allinone_AI/blob/images/45_%EA%B5%AC%EA%B5%AC%EB%8B%A8%204%EB%8B%A8.png?raw=true' width=300>"
      ]
    },
    {
      "cell_type": "markdown",
      "metadata": {
        "id": "HGT976rTdw7A"
      },
      "source": [
        "#### ★ 복습 12\n",
        "```\n",
        "숫자 하나를 입력받아, 해당 숫자의 구구단을 출력하시오 \n",
        "입력 안내문 : 구구단 몇 단을 외울까요?\n",
        "```"
      ]
    },
    {
      "cell_type": "code",
      "metadata": {
        "id": "M07ebqeM4YUM",
        "outputId": "d9408af1-d427-48f9-e48d-3e672dbf3b24",
        "colab": {
          "base_uri": "https://localhost:8080/"
        }
      },
      "source": [
        "# 복습 12\n",
        "num = int(input('구구단 몇단을 외울까요? '))\n",
        "\n",
        "for i in range(1, 10) : \n",
        "    print(num,'x',i,'=',num*i)"
      ],
      "execution_count": null,
      "outputs": [
        {
          "output_type": "stream",
          "text": [
            "구구단 몇단을 외울까요? 9\n",
            "9 x 1 = 9\n",
            "9 x 2 = 18\n",
            "9 x 3 = 27\n",
            "9 x 4 = 36\n",
            "9 x 5 = 45\n",
            "9 x 6 = 54\n",
            "9 x 7 = 63\n",
            "9 x 8 = 72\n",
            "9 x 9 = 81\n"
          ],
          "name": "stdout"
        }
      ]
    },
    {
      "cell_type": "markdown",
      "metadata": {
        "id": "PjHkUiXS68NT"
      },
      "source": [
        "<img src='https://github.com/Ahnjihye/allinone_AI/blob/images/46_%EC%88%AB%EC%9E%90%EC%9E%85%EB%A0%A5%EB%B0%9B%EC%95%84%20%EA%B5%AC%EA%B5%AC%EB%8B%A8.png?raw=true' width=250>"
      ]
    },
    {
      "cell_type": "markdown",
      "metadata": {
        "id": "texHQI4MeF1A"
      },
      "source": [
        "# 2. 오늘의 진도 : 리스트\n",
        "### 여러 데이터를 한 번에 묶어서 표현하는 리스트\n",
        "\n",
        "\n",
        "**지출을 관리하는 가계부 프로그램**\n",
        "```\n",
        "jan = 25\n",
        "feb = 36\n",
        "mar = 8\n",
        "apr = 53\n",
        "may = 24\n",
        "jun = 56\n",
        "...(중략)\n",
        "```\n",
        "--> 변수가 너무 많다. 모두 같은 '지출'인데 묶어서 표현할 수 없을까?\n",
        "\n",
        "\n",
        "**리스트 활용**\n",
        "```\n",
        "spending = [25, 36, 8, 53, 24, 56]\n",
        "```\n",
        "\n",
        "\n"
      ]
    },
    {
      "cell_type": "code",
      "metadata": {
        "id": "N2-1PwP0LFGU",
        "outputId": "dc8977f8-0511-4d10-b4ab-2d77bb0795a3",
        "colab": {
          "base_uri": "https://localhost:8080/"
        }
      },
      "source": [
        "spending = [25, 36, 8, 53, 24, 56]\n",
        "print(spending)"
      ],
      "execution_count": null,
      "outputs": [
        {
          "output_type": "stream",
          "text": [
            "[25, 36, 8, 53, 24, 56]\n"
          ],
          "name": "stdout"
        }
      ]
    },
    {
      "cell_type": "markdown",
      "metadata": {
        "id": "fUECv5jVfYUC"
      },
      "source": [
        "### 리스트(list)란? \n",
        "실생활의 리스트 \n",
        "    \n",
        "<img src='https://github.com/Ahnjihye/allinone_AI/blob/images/56_%EC%82%AC%EC%95%BC%ED%95%A0%20%EB%A6%AC%EC%8A%A4%ED%8A%B8.png?raw=true' width=150>\n",
        "\n",
        "파이썬에서의 리스트\n",
        "<img src='https://github.com/Ahnjihye/allinone_AI/blob/images/6_%EB%A6%AC%EC%8A%A4%ED%8A%B8%EA%B0%9C%EB%85%90.png?raw=true' width=600>"
      ]
    },
    {
      "cell_type": "code",
      "metadata": {
        "id": "6oXHQumbRyMt",
        "outputId": "3031ce16-bb8d-44ff-bbb5-558b47cc5f96",
        "colab": {
          "base_uri": "https://localhost:8080/"
        }
      },
      "source": [
        "# 칸 [0]에 있는 숫자는?\n",
        "print(spending[0])"
      ],
      "execution_count": null,
      "outputs": [
        {
          "output_type": "stream",
          "text": [
            "25\n"
          ],
          "name": "stdout"
        }
      ]
    },
    {
      "cell_type": "code",
      "metadata": {
        "id": "E9Z1TlIvmipZ",
        "outputId": "17e45526-df2f-4a2a-a07d-464d0fc55497",
        "colab": {
          "base_uri": "https://localhost:8080/"
        }
      },
      "source": [
        "# 칸 [1]에 있는 숫자는?\n",
        "print(spending[1])"
      ],
      "execution_count": null,
      "outputs": [
        {
          "output_type": "stream",
          "text": [
            "36\n"
          ],
          "name": "stdout"
        }
      ]
    },
    {
      "cell_type": "markdown",
      "metadata": {
        "id": "Feb3zlLSmbQI"
      },
      "source": [
        "<img src='https://github.com/Ahnjihye/allinone_AI/blob/images/57_%EB%A6%AC%EC%8A%A4%ED%8A%B8%20%EC%9D%B8%EB%8D%B1%EC%8B%B1.png?raw=true' width=500>"
      ]
    },
    {
      "cell_type": "code",
      "metadata": {
        "id": "kWRgZCNGmisE",
        "outputId": "a5e48547-1a8b-4f98-db5d-81f5f35600dc",
        "colab": {
          "base_uri": "https://localhost:8080/"
        }
      },
      "source": [
        "# 3월 지출을 출력하시오\n",
        "print(spending[2])"
      ],
      "execution_count": null,
      "outputs": [
        {
          "output_type": "stream",
          "text": [
            "8\n"
          ],
          "name": "stdout"
        }
      ]
    },
    {
      "cell_type": "code",
      "metadata": {
        "id": "z8ejYUCImivX",
        "outputId": "dd128e65-fa3c-4012-b73d-48861b343458",
        "colab": {
          "base_uri": "https://localhost:8080/"
        }
      },
      "source": [
        "# 5월 지출을 출력하시오\n",
        "print(spending[4])"
      ],
      "execution_count": null,
      "outputs": [
        {
          "output_type": "stream",
          "text": [
            "24\n"
          ],
          "name": "stdout"
        }
      ]
    },
    {
      "cell_type": "markdown",
      "metadata": {
        "id": "yIayehv0mzHH"
      },
      "source": [
        "#### IndexError - 리스트 범위를 벗어날 때 발생하는 에러\n",
        "\n"
      ]
    },
    {
      "cell_type": "code",
      "metadata": {
        "id": "EYdIu-rkmuLF"
      },
      "source": [
        "print(spending[6])"
      ],
      "execution_count": null,
      "outputs": []
    },
    {
      "cell_type": "code",
      "metadata": {
        "id": "M-meuH2-R4Pj"
      },
      "source": [
        "print(spending[10])"
      ],
      "execution_count": null,
      "outputs": []
    },
    {
      "cell_type": "markdown",
      "metadata": {
        "id": "pbdWQ-dunL2-"
      },
      "source": [
        "### 리스트의 값 변경하기"
      ]
    },
    {
      "cell_type": "code",
      "metadata": {
        "id": "GLxhJtBimxiQ"
      },
      "source": [
        "# 3월 지출에 현금으로 사용한 10만원이 누락되어\n",
        "# 3월 지출 에 10만원을 추가해야 한다. \n",
        "print('변경 전 3월 지출 : ', spending[2])\n",
        "\n",
        "spending[2] += 10\n",
        "\n",
        "print('변경 후 3월 지출 : ', spending[2])"
      ],
      "execution_count": null,
      "outputs": []
    },
    {
      "cell_type": "code",
      "metadata": {
        "id": "JcETEqWppbV5"
      },
      "source": [
        "# 5월 지출이 2만원 더 추가되어 잡혔다. \n",
        "# 5월 지출에 2만원을 빼야 한다. \n",
        "print('변경 전 5월 지출 : ', spending[4])\n",
        "\n",
        "spending[4] -= 2\n",
        "\n",
        "print('변경 후 3월 지출 : ', spending[4])"
      ],
      "execution_count": null,
      "outputs": []
    },
    {
      "cell_type": "markdown",
      "metadata": {
        "id": "38ngKdrhpyPp"
      },
      "source": [
        "### 리스트의 길이 구하기\n",
        "len(리스트이름)"
      ]
    },
    {
      "cell_type": "code",
      "metadata": {
        "id": "e9aA_A8np2rb"
      },
      "source": [
        "len(spending)"
      ],
      "execution_count": null,
      "outputs": []
    },
    {
      "cell_type": "markdown",
      "metadata": {
        "id": "8cOVBFBbpvTy"
      },
      "source": [
        "### 반복문으로 리스트 다루기\n",
        "<img src='https://github.com/Ahnjihye/allinone_AI/blob/images/4_%EB%B0%98%EB%B3%B5%EB%AC%B8.png?raw=true' width = 500>\n",
        "\n",
        "</br>\n",
        "</br>\n",
        "\n",
        "**data 위치에 무엇이 들어가면 좋을까?**"
      ]
    },
    {
      "cell_type": "code",
      "metadata": {
        "id": "a7TF3LfQpuAx",
        "outputId": "41784ab4-346e-40f6-f1b4-2bd354f0743a",
        "colab": {
          "base_uri": "https://localhost:8080/"
        }
      },
      "source": [
        "# 반복문으로 리스트의 모든 원소 출력하기\n",
        "# data에 리스트 넣기\n",
        "for i in spending : \n",
        "    print(i)"
      ],
      "execution_count": null,
      "outputs": [
        {
          "output_type": "stream",
          "text": [
            "25\n",
            "36\n",
            "18\n",
            "53\n",
            "22\n",
            "56\n"
          ],
          "name": "stdout"
        }
      ]
    },
    {
      "cell_type": "code",
      "metadata": {
        "id": "T6RYEcvFrGrQ",
        "outputId": "1eb8f5ca-18a9-47b2-c7d0-221a9f2bd649",
        "colab": {
          "base_uri": "https://localhost:8080/"
        }
      },
      "source": [
        "# 반복문으로 리스트의 모든 원소 출력하기\n",
        "# data에 range() 넣기\n",
        "for i in range(6) : \n",
        "    print(spending[i])"
      ],
      "execution_count": null,
      "outputs": [
        {
          "output_type": "stream",
          "text": [
            "25\n",
            "36\n",
            "18\n",
            "53\n",
            "22\n",
            "56\n"
          ],
          "name": "stdout"
        }
      ]
    },
    {
      "cell_type": "markdown",
      "metadata": {
        "id": "USg4cdl4r7nk"
      },
      "source": [
        "### 리스트 길이를 항상 다 외우고 있을 수 있을까?"
      ]
    },
    {
      "cell_type": "code",
      "metadata": {
        "id": "d6uhKv5rr_HM",
        "outputId": "56bbaa36-126c-4e6b-c0b1-2c1714514fa7",
        "colab": {
          "base_uri": "https://localhost:8080/"
        }
      },
      "source": [
        "# range(len(리스트)) 넣기\n",
        "for i in range(len(spending)) : \n",
        "    print(spending[i])"
      ],
      "execution_count": null,
      "outputs": [
        {
          "output_type": "stream",
          "text": [
            "25\n",
            "36\n",
            "18\n",
            "53\n",
            "22\n",
            "56\n"
          ],
          "name": "stdout"
        }
      ]
    },
    {
      "cell_type": "code",
      "metadata": {
        "id": "CdZYODNYqTvR",
        "outputId": "d5fcfd9f-03d3-427f-9d9b-46981992d39d",
        "colab": {
          "base_uri": "https://localhost:8080/"
        }
      },
      "source": [
        "# 다음 형식으로 출력해보기\n",
        "# 00월 지출은 00원\n",
        "for i in range(len(spending)) : \n",
        "    print(i,'월 지출은',spending[i],'원')"
      ],
      "execution_count": null,
      "outputs": [
        {
          "output_type": "stream",
          "text": [
            "0 월 지출은 25 원\n",
            "1 월 지출은 36 원\n",
            "2 월 지출은 18 원\n",
            "3 월 지출은 53 원\n",
            "4 월 지출은 22 원\n",
            "5 월 지출은 56 원\n"
          ],
          "name": "stdout"
        }
      ]
    },
    {
      "cell_type": "code",
      "metadata": {
        "id": "tkJqNhT53OBL"
      },
      "source": [
        "# 우리반 1번~5번의 점수 score에 넣어 리스트로 만들기\n",
        "score = [25, 94, 63, 34, 86]"
      ],
      "execution_count": 40,
      "outputs": []
    },
    {
      "cell_type": "code",
      "metadata": {
        "id": "nEmtDr0KKPw_"
      },
      "source": [
        "# 리스트 score의 모든 요소 출력하기 \n",
        "# range() 사용하지 않는 반복문 \n"
      ],
      "execution_count": null,
      "outputs": []
    },
    {
      "cell_type": "code",
      "metadata": {
        "id": "qSfFW7Zr1qJK"
      },
      "source": [
        "# 리스트 score의 모든 요소 출력하기 \n",
        "# range() 사용하는 반복문 \n"
      ],
      "execution_count": null,
      "outputs": []
    },
    {
      "cell_type": "markdown",
      "metadata": {
        "id": "99MnwcN61ij5"
      },
      "source": [
        "<img src='https://github.com/Ahnjihye/allinone_AI/blob/images/61_%EB%A6%AC%EC%8A%A4%ED%8A%B8_%EB%B0%98%EB%B3%B5%EB%AC%B8.png?raw=true' width = 700>"
      ]
    },
    {
      "cell_type": "code",
      "metadata": {
        "id": "RuOXMCGcKe24",
        "outputId": "8844b620-cfc4-4525-cb31-4718102debb2",
        "colab": {
          "base_uri": "https://localhost:8080/"
        }
      },
      "source": [
        "# 70점이 넘는 점수만 출력하시오\n",
        "for s in score : \n",
        "    if s > 70 : \n",
        "        print(s)"
      ],
      "execution_count": 41,
      "outputs": [
        {
          "output_type": "stream",
          "text": [
            "94\n",
            "86\n"
          ],
          "name": "stdout"
        }
      ]
    },
    {
      "cell_type": "code",
      "metadata": {
        "id": "ezgW7cSKKp6V",
        "outputId": "2921f129-1c9d-48dd-f9ed-f38b40de38ab",
        "colab": {
          "base_uri": "https://localhost:8080/"
        }
      },
      "source": [
        "# 1번부터 5번까지 70점이 넘는 학생의 번호와, 점수 출력하기\n",
        "for i in range(len(score)) : \n",
        "    if score[i] > 70 : \n",
        "        print(i+1,'번 :', score[i])\n"
      ],
      "execution_count": 42,
      "outputs": [
        {
          "output_type": "stream",
          "text": [
            "2 번 : 94\n",
            "5 번 : 86\n"
          ],
          "name": "stdout"
        }
      ]
    },
    {
      "cell_type": "markdown",
      "metadata": {
        "id": "Mw1IUZc0LCei"
      },
      "source": [
        "<img src='https://github.com/Ahnjihye/allinone_AI/blob/images/60_%EB%A6%AC%EC%8A%A4%ED%8A%B8_%EC%A0%9C%EC%96%B4%EB%AC%B8.png?raw=true' width=600>"
      ]
    },
    {
      "cell_type": "code",
      "metadata": {
        "id": "LRQ-IrH-r2rM"
      },
      "source": [
        "# 좋아하는 음식 순서대로 저장하는 리스트\n",
        "food = ['피자','치킨','떡볶이','스테이크','파스타']"
      ],
      "execution_count": null,
      "outputs": []
    },
    {
      "cell_type": "code",
      "metadata": {
        "id": "GFDFTxAF1OPb",
        "outputId": "1931178b-6ed0-4bf1-db9d-a24ab3362be5",
        "colab": {
          "base_uri": "https://localhost:8080/"
        }
      },
      "source": [
        "# 가장 좋아하는 음식은? \n",
        "print(food[0])"
      ],
      "execution_count": null,
      "outputs": [
        {
          "output_type": "stream",
          "text": [
            "피자\n"
          ],
          "name": "stdout"
        }
      ]
    },
    {
      "cell_type": "code",
      "metadata": {
        "id": "3zz80OWq1X2p",
        "outputId": "2aa77c4d-e759-4f8f-e7a2-4070ae1bc67d",
        "colab": {
          "base_uri": "https://localhost:8080/"
        }
      },
      "source": [
        "# 세 번째로 좋아하는 음식은?\n",
        "print(food[2])\n"
      ],
      "execution_count": null,
      "outputs": [
        {
          "output_type": "stream",
          "text": [
            "떡볶이\n"
          ],
          "name": "stdout"
        }
      ]
    },
    {
      "cell_type": "code",
      "metadata": {
        "id": "yy5Ny35R1X4r",
        "outputId": "bc034dc8-fcae-4100-db77-be7bb075084d",
        "colab": {
          "base_uri": "https://localhost:8080/"
        }
      },
      "source": [
        "# 가장 덜 좋아하는 음식은? \n",
        "print(food[4])"
      ],
      "execution_count": null,
      "outputs": [
        {
          "output_type": "stream",
          "text": [
            "딸기\n"
          ],
          "name": "stdout"
        }
      ]
    },
    {
      "cell_type": "markdown",
      "metadata": {
        "id": "t9sgFySbLS1R"
      },
      "source": [
        "#### 마이너스 인덱싱 : 뒤에서부터 세는 인덱스\n",
        "<img src ='https://github.com/Ahnjihye/allinone_AI/blob/images/62_%EB%A6%AC%EC%8A%A4%ED%8A%B8_%EB%A7%88%EC%9D%B4%EB%84%88%EC%8A%A4%EC%9D%B8%EB%8D%B1%EC%8B%B1.png?raw=true' width = 400>\n"
      ]
    },
    {
      "cell_type": "code",
      "metadata": {
        "id": "gHfr94cG1X7M"
      },
      "source": [
        "# 가장 덜 좋아하는 음식은? \n",
        "print(food[-1])\n"
      ],
      "execution_count": null,
      "outputs": []
    },
    {
      "cell_type": "code",
      "metadata": {
        "id": "NgQyUekV1X9Z"
      },
      "source": [
        "# 두 번째로 덜 좋아하는 음식?\n",
        "print(food[-2])\n",
        "\n"
      ],
      "execution_count": null,
      "outputs": []
    },
    {
      "cell_type": "code",
      "metadata": {
        "id": "LT3xB6kUMjvW"
      },
      "source": [
        "# 세 번째로 덜 좋아하는 음식?\n",
        "print(food[-3])"
      ],
      "execution_count": null,
      "outputs": []
    },
    {
      "cell_type": "markdown",
      "metadata": {
        "id": "SLyh3WxbMllU"
      },
      "source": [
        "### 리스트에 원소 추가하기 \n",
        "\n",
        "<img src = 'https://github.com/Ahnjihye/allinone_AI/blob/images/58_%EB%A6%AC%EC%8A%A4%ED%8A%B8append.png?raw=true' width = 500>\n",
        "\n",
        "```\n",
        "score.append(40)\n",
        "score.append(89)\n",
        "```\n"
      ]
    },
    {
      "cell_type": "code",
      "metadata": {
        "id": "3ANaf9FxMnup",
        "outputId": "94fa5ca4-2cea-4d4a-85c5-3d2edbf2a5d0",
        "colab": {
          "base_uri": "https://localhost:8080/"
        }
      },
      "source": [
        "food = ['피자','치킨','떡볶이','스테이크','파스타']\n",
        "food.append('감자칩')\n",
        "print(food)"
      ],
      "execution_count": 43,
      "outputs": [
        {
          "output_type": "stream",
          "text": [
            "['피자', '치킨', '떡볶이', '스테이크', '파스타', '감자칩']\n"
          ],
          "name": "stdout"
        }
      ]
    },
    {
      "cell_type": "code",
      "metadata": {
        "id": "78o8kp5DN6RW",
        "outputId": "f4694872-03be-4f99-cc72-56e630cc5eb0",
        "colab": {
          "base_uri": "https://localhost:8080/"
        }
      },
      "source": [
        "food.append('카레')\n",
        "print(food)"
      ],
      "execution_count": 44,
      "outputs": [
        {
          "output_type": "stream",
          "text": [
            "['피자', '치킨', '떡볶이', '스테이크', '파스타', '감자칩', '카레']\n"
          ],
          "name": "stdout"
        }
      ]
    },
    {
      "cell_type": "markdown",
      "metadata": {
        "id": "ez-K6m9VOGlZ"
      },
      "source": [
        "<img src='https://github.com/Ahnjihye/allinone_AI/blob/images/59_%EB%A6%AC%EC%8A%A4%ED%8A%B8_append.png?raw=true' width = 400>"
      ]
    },
    {
      "cell_type": "code",
      "metadata": {
        "id": "jhNubjt3N6Tn",
        "outputId": "d74c44a3-5e63-467f-d040-4bb15c6a8a79",
        "colab": {
          "base_uri": "https://localhost:8080/"
        }
      },
      "source": [
        "# 해야할 일을 입력받아 리스트에 추가해보자\n",
        "# 1. 빈 리스트 todo를 만든 후, \n",
        "# 2. 해야 할 일 입력받고, 리스트에 추가하기 \n",
        "# 3. 2번을 3번 반복\n",
        "todo = []\n",
        "\n",
        "for i in range(3) : \n",
        "    do = input('해야 할 일을 입력하세요 ')\n",
        "    todo.append(do)\n",
        "\n",
        "print('오늘 해야 할 일은', todo)"
      ],
      "execution_count": 46,
      "outputs": [
        {
          "output_type": "stream",
          "text": [
            "해야 할 일을 입력하세요 파이썬 반복문 마스터\n",
            "해야 할 일을 입력하세요 파이썬 리스트 마스터\n",
            "해야 할 일을 입력하세요 파이썬 복습\n",
            "오늘 해야 할 일은 ['파이썬 반복문 마스터', '파이썬 리스트 마스터', '파이썬 복습']\n"
          ],
          "name": "stdout"
        }
      ]
    },
    {
      "cell_type": "code",
      "metadata": {
        "id": "Hjj-B42RQnzo",
        "outputId": "2bdcb76b-5e3b-4868-881e-9451245f58d9",
        "colab": {
          "base_uri": "https://localhost:8080/"
        }
      },
      "source": [
        "# 빈 리스트 soul_food를 만든 후, \n",
        "# 좋아하는 음식 5개를 입력받아 food에 추가하기\n",
        "soul_food = []\n",
        "for i in range(5) : \n",
        "    food = input('좋아하는 음식은? ')\n",
        "    soul_food.append(food)\n",
        "\n",
        "print(soul_food)"
      ],
      "execution_count": 45,
      "outputs": [
        {
          "output_type": "stream",
          "text": [
            "좋아하는 음식은? 감자칩\n",
            "좋아하는 음식은? 치킨\n",
            "좋아하는 음식은? 파스타\n",
            "좋아하는 음식은? 카레\n",
            "좋아하는 음식은? 아메리\n",
            "['감자칩', '치킨', '파스타', '카레', '아메리']\n"
          ],
          "name": "stdout"
        }
      ]
    }
  ]
}