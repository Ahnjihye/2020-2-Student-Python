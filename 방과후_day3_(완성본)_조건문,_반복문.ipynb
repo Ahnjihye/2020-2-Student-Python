{
  "nbformat": 4,
  "nbformat_minor": 0,
  "metadata": {
    "colab": {
      "name": "방과후 day3 (완성본) 조건문, 반복문.ipynb",
      "provenance": [],
      "collapsed_sections": [],
      "authorship_tag": "ABX9TyMBK7ViuDgCNBwbYWYkfTra",
      "include_colab_link": true
    },
    "kernelspec": {
      "name": "python3",
      "display_name": "Python 3"
    }
  },
  "cells": [
    {
      "cell_type": "markdown",
      "metadata": {
        "id": "view-in-github",
        "colab_type": "text"
      },
      "source": [
        "<a href=\"https://colab.research.google.com/github/Ahnjihye/2020-2-Student-Python/blob/main/%EB%B0%A9%EA%B3%BC%ED%9B%84_day3_(%EC%99%84%EC%84%B1%EB%B3%B8)_%EC%A1%B0%EA%B1%B4%EB%AC%B8%2C_%EB%B0%98%EB%B3%B5%EB%AC%B8.ipynb\" target=\"_parent\"><img src=\"https://colab.research.google.com/assets/colab-badge.svg\" alt=\"Open In Colab\"/></a>"
      ]
    },
    {
      "cell_type": "markdown",
      "metadata": {
        "id": "ZstKKkcrGzaS"
      },
      "source": [
        "# 1. 복습\n",
        "\n",
        "<img src='https://github.com/Ahnjihye/allinone_AI/blob/images/0_%EB%AA%85%EB%A0%B9%EC%96%B4.png?raw=true' width=400>\n",
        "        \n"
      ]
    },
    {
      "cell_type": "markdown",
      "metadata": {
        "id": "9QBQme8AHpW9"
      },
      "source": [
        "     \n",
        "## 1-1. 출력 명령어 print()\n",
        "\n",
        "> print(출력할 내용)\n"
      ]
    },
    {
      "cell_type": "code",
      "metadata": {
        "id": "MDVJZn1ZMfNc"
      },
      "source": [
        "# 복습 1\n",
        "# 본인 생일 8자리 숫자로 출력하기\n",
        "\n",
        "\n",
        "# 복습 2\n",
        "# 가장 좋아하는 음식 3개 출력하기\n"
      ],
      "execution_count": null,
      "outputs": []
    },
    {
      "cell_type": "markdown",
      "metadata": {
        "id": "5_-ZLMLdMfVE"
      },
      "source": [
        "#### 문자는 따옴표로 감싸주자!\n",
        "\n",
        "정상 실행 \n",
        "> print('이름') \n",
        "\n",
        "</br>\n",
        "\n",
        "\n",
        "에러 발생\n",
        "> print(이름)    \n"
      ]
    },
    {
      "cell_type": "code",
      "metadata": {
        "id": "oxgReflgDjvy"
      },
      "source": [
        "# 복습 2 \n",
        "# 가장 좋아하는 계절 출력하기\n"
      ],
      "execution_count": null,
      "outputs": []
    },
    {
      "cell_type": "markdown",
      "metadata": {
        "id": "GzEKjyAJH3DO"
      },
      "source": [
        "## 1-2) 입력 명령어 input()\n",
        "\n",
        "> input()\n",
        "\n",
        "</br>\n",
        "\n",
        "입력안내문 넣기\n",
        "> input('입력안내문')\n"
      ]
    },
    {
      "cell_type": "code",
      "metadata": {
        "id": "Br9ZjQiOGx_8"
      },
      "source": [
        "# 복습 3  \n",
        "# 아이디를 입력받는 칸을 만들어보시오 \n"
      ],
      "execution_count": null,
      "outputs": []
    },
    {
      "cell_type": "markdown",
      "metadata": {
        "id": "kza4BGSuIQtw"
      },
      "source": [
        "## 1-3) 변수 : 데이터를 저장하는 공간\n",
        "\n",
        "\n",
        "> name = '안지혜'\n",
        "\n",
        "> school = '관악고'\n",
        "\n",
        "</br>\n",
        "\n",
        "> 변수이름 = 저장할 데이터\n",
        "\n",
        "<img src = 'https://github.com/Ahnjihye/allinone_AI/blob/images/1_%EB%B3%80%EC%88%98.png?raw=true' width =500>\n",
        "\n"
      ]
    },
    {
      "cell_type": "code",
      "metadata": {
        "id": "G8-f41AQGyI7"
      },
      "source": [
        "# 복습 4  \n",
        "# 영어이름, 좋아하는 음식, 생일을 각각 다른 변수에 저장하시오\n",
        "# 변수 이름은 본인 맘대로 가능 (잘 생각 안나면 name, soul_food, birthday로 해도 됨)\n",
        "name = 'jiejie'\n",
        "soul_food = '가을'\n",
        "birthday = 20201019"
      ],
      "execution_count": null,
      "outputs": []
    },
    {
      "cell_type": "markdown",
      "metadata": {
        "id": "hFXRLcteMhQ8"
      },
      "source": [
        "#### 여러 요소 결합하여 출력하기 \n",
        "\n",
        "콤마로 연결하여 print()\n",
        "> print(내용1, 내용2, 내용3)\n"
      ]
    },
    {
      "cell_type": "code",
      "metadata": {
        "id": "kQJ2N9kNGx7I",
        "outputId": "ea9dc78f-55a2-4286-f709-bc69b120f983",
        "colab": {
          "base_uri": "https://localhost:8080/"
        }
      },
      "source": [
        "# 복습 5\n",
        "# 위에서 만든 변수를 활용하여\n",
        "# [생일]에 태어난 [본인이름]은 [음식]을 좋아한다. 출력\n",
        "print(birthday, '에 태어난',name,'은/는',soul_food,'을 좋아한다') "
      ],
      "execution_count": null,
      "outputs": [
        {
          "output_type": "stream",
          "text": [
            "20201019 에 태어난 jiejie 은/는 가을 을 좋아한다\n"
          ],
          "name": "stdout"
        }
      ]
    },
    {
      "cell_type": "markdown",
      "metadata": {
        "id": "IOdruSfrLTi4"
      },
      "source": [
        "#### 입력받아 변수에 저장하기\n",
        "\n",
        "> 변수이름 = input()\n",
        "\n",
        "<img src=\"https://github.com/Ahnjihye/allinone_AI/blob/images/%EC%9D%B4%EB%AF%B8%EC%A7%80%20003.png?raw=true\" width=400>\n"
      ]
    },
    {
      "cell_type": "code",
      "metadata": {
        "id": "BJnXNKXgGyN0",
        "outputId": "412d2ca4-cc9a-451c-81ae-df8ecf2cd689",
        "colab": {
          "base_uri": "https://localhost:8080/"
        }
      },
      "source": [
        "# 복습 6\n",
        "# 점수를 입력받은 후, \"당신의 점수는 [입력된점수]입니다\"라고 출력하기\n",
        "score = input('점수 입력 : ')\n",
        "print('당신의 점수는', score, '입니다.')"
      ],
      "execution_count": null,
      "outputs": [
        {
          "output_type": "stream",
          "text": [
            "점수 입력 : 80\n",
            "당신의 점수는 80 입니다.\n"
          ],
          "name": "stdout"
        }
      ]
    },
    {
      "cell_type": "markdown",
      "metadata": {
        "id": "7PSfMqiCMKvK"
      },
      "source": [
        "#### 변수의 데이터타입 \n",
        "\n",
        "변수에 저장된 데이터에 따라 변수의 데이터타입이 결정된다!\n",
        "\n",
        "> 정수 int\n",
        "\n",
        "> 실수 float\n",
        "\n",
        "> 문자 str\n",
        "\n",
        "\n",
        "</br>\n",
        "\n",
        "데이터 타입을 알려주는 명령어\n",
        "> type(변수이름)\n",
        "\n",
        "\n"
      ]
    },
    {
      "cell_type": "code",
      "metadata": {
        "id": "Ptsj_Xa2Gx-H",
        "outputId": "b6dfb9f8-b95f-437d-8b8e-8edb2a5c7256",
        "colab": {
          "base_uri": "https://localhost:8080/",
          "height": 36
        }
      },
      "source": [
        "# 복습 6\n",
        "# 위에서만든 변수 birthday의 데이터타입 출력\n",
        "type(birthday)"
      ],
      "execution_count": null,
      "outputs": [
        {
          "output_type": "execute_result",
          "data": {
            "text/plain": [
              "str"
            ]
          },
          "metadata": {
            "tags": []
          },
          "execution_count": 12
        }
      ]
    },
    {
      "cell_type": "markdown",
      "metadata": {
        "id": "v8QtmFn2TbZy"
      },
      "source": [
        "#### 데이터타입 변경하기\n",
        "변경하려는 데이터타입으로 감싸주기\n",
        "</br>\n",
        "</br>\n",
        "정수(int)로 변경하기\n",
        "```\n",
        "int(변수)\n",
        "```\n",
        "실수(float)로 변경하기\n",
        "```\n",
        "float(변수)\n",
        "```\n",
        "문자(str)로 변경하기\n",
        "```\n",
        "str(변수)\n",
        "```"
      ]
    },
    {
      "cell_type": "code",
      "metadata": {
        "id": "I-pZHRcvGx5D",
        "outputId": "fdfd9051-3698-45b8-cf3a-6bd7a645ff2d",
        "colab": {
          "base_uri": "https://localhost:8080/",
          "height": 36
        }
      },
      "source": [
        "# 복습 7\n",
        "# 위에서 만든 변수 birthday를 정수로 변경하고 \n",
        "# 데이터 타입 출력해보기\n",
        "birthday = int(birthday)\n",
        "type(birthday)"
      ],
      "execution_count": null,
      "outputs": [
        {
          "output_type": "execute_result",
          "data": {
            "text/plain": [
              "int"
            ]
          },
          "metadata": {
            "tags": []
          },
          "execution_count": 14
        }
      ]
    },
    {
      "cell_type": "markdown",
      "metadata": {
        "id": "6Bk7mvyPUZWK"
      },
      "source": [
        "### 미니 프로젝트\n",
        "\n",
        "아래 두 가지를 충족하는 프로그램을 작성하시오\n",
        "> 1. 원의 반지름을 입력받아\n",
        "> 2. 원의 둘레(c_len), 넓이(c_area),  구의 넓이(s_area), 구의 부피(s_volume)를 구하는 프로그램을 작성하시오. \n",
        "\n",
        "<img src='https://github.com/Ahnjihye/allinone_AI/blob/images/36_%EC%9B%90%20%EB%84%93%EC%9D%B4,%20%EB%91%98%EB%A0%88%20%EB%93%B1.png?raw=true' width = 350>\n",
        "\n",
        "pie = 3.141592"
      ]
    },
    {
      "cell_type": "code",
      "metadata": {
        "id": "Hu3jHckrT_PJ",
        "outputId": "0fc8f66a-6df9-4b2d-a6d6-47152127bb77",
        "colab": {
          "base_uri": "https://localhost:8080/",
          "height": 92
        }
      },
      "source": [
        "# 복습 8\n",
        "pie = 3.141592\n",
        "r = input('반지름 입력 : ')\n",
        "r = float(r)\n",
        "\n",
        "c_len = 2 * pie * r\n",
        "c_area = pie * r **2\n",
        "s_area = 4 * pie * r\n",
        "s_volume = 4/3 * pie * r ** 3\n",
        "\n",
        "print('원의 둘레와 넓이는',c_len, c_area)\n",
        "print('구의 겉넓이와 부피는',s_area, s_volume)"
      ],
      "execution_count": null,
      "outputs": [
        {
          "output_type": "stream",
          "text": [
            "반지름 입력 : 8.5\n",
            "입력한 반지름은 8.5\n",
            "원의 둘레와 넓이는 53.407064000000005 226.98002200000002\n",
            "구의 겉넓이와 부피는 106.81412800000001 2572.440249333333\n"
          ],
          "name": "stdout"
        }
      ]
    },
    {
      "cell_type": "markdown",
      "metadata": {
        "id": "q05bhR8dZ6C1"
      },
      "source": [
        "# 4. 선택구조 - 조건문\n",
        "\n",
        "지금까지의 명령어는 항상 실행되는 명령어 \n",
        "</br>\n",
        "</br>\n",
        "조건을 충족할 때만 실행되거나/ 실행되지 않는 명령어\n",
        "</br>\n",
        "</br>\n",
        "<img src='https://github.com/Ahnjihye/allinone_AI/blob/images/10_%EC%84%A0%ED%83%9D%EA%B5%AC%EC%A1%B0%20%EC%98%88%EC%8B%9C%20png.png?raw=true' >\n",
        "\n",
        "**선택구조 : 조건을 충족할 때에만 선택적으로 실행되는 명령어**\n",
        "</br>\n",
        "**=조건문 이라고도 함**\n"
      ]
    },
    {
      "cell_type": "markdown",
      "metadata": {
        "id": "auukEYYpfagS"
      },
      "source": [
        "---\n",
        "\n",
        "**파이썬으로 if- 조건문 표현하는 방법**       \n",
        "\n",
        "<img src = 'https://github.com/Ahnjihye/allinone_AI/blob/images/10_%EC%84%A0%ED%83%9D%EA%B5%AC%EC%A1%B0.png?raw=true' width = 500>\n",
        "\n",
        "```\n",
        "if 성인 : \n",
        "    print('술을 구매할 수 있습니다')\n",
        "```\n",
        " "
      ]
    },
    {
      "cell_type": "code",
      "metadata": {
        "id": "h0ZqzomwdwS1",
        "outputId": "08f19835-b09d-4a9b-b8bd-490a63790c89",
        "colab": {
          "base_uri": "https://localhost:8080/"
        }
      },
      "source": [
        "# 복습 9\n",
        "# 변수 age에 저장된 숫자가 19를 넘을 때에만\n",
        "# '술을 구매할 수 있습니다!'라고 출력하기\n",
        "age = 23\n",
        "\n",
        "if age > 19 : \n",
        "    print('술을 구매할 수 있습니다!')"
      ],
      "execution_count": null,
      "outputs": [
        {
          "output_type": "stream",
          "text": [
            "술을 구매할 수 있습니다!\n"
          ],
          "name": "stdout"
        }
      ]
    },
    {
      "cell_type": "markdown",
      "metadata": {
        "id": "MFXDu2JJRAHV"
      },
      "source": [
        "> 조건문에서는 들여쓰기를 조심하세요!\n",
        "</br>\n",
        "<img src ='https://github.com/Ahnjihye/allinone_AI/blob/images/10_%EC%84%A0%ED%83%9D%EA%B5%AC%EC%A1%B0%20%EB%93%A4%EC%97%AC%EC%93%B0%EA%B8%B0%20png.png?raw=true' width=200>"
      ]
    },
    {
      "cell_type": "code",
      "metadata": {
        "id": "Hfx1updsRAcc"
      },
      "source": [
        "# 복습 10\n",
        "# 나이를 입력받고, 입력받은 나이가 미성년자이면\n",
        "# 술을 구매할 수 없다고 출력하기\n",
        "age = input('나이가 어떻게 되세요?')\n",
        "age = int(age)\n",
        "\n",
        "if age < 20 : \n",
        "    print('술을 구매할 수 없습니다.')"
      ],
      "execution_count": null,
      "outputs": []
    },
    {
      "cell_type": "code",
      "metadata": {
        "id": "TqO6K4uhRcIo"
      },
      "source": [
        "# 복습 11 - 위 코드에 다음을 추가하시오\n",
        "# **년 후 성인이 되면 다시 오세요! \n",
        "# **은 성인이 되기까지 남은 햇수 (18세는 2년후, 17세는 3년후 출력)\n",
        "age = input('나이가 어떻게 되세요?')\n",
        "age = int(age)\n",
        "\n",
        "if age < 20 : \n",
        "    print('술을 구매할 수 없습니다.')\n",
        "    print(20-age,'년 후 성인이 되면 다시 오세요!')"
      ],
      "execution_count": null,
      "outputs": []
    },
    {
      "cell_type": "markdown",
      "metadata": {
        "id": "lgirut-pRpRA"
      },
      "source": [
        "<img src = 'https://github.com/Ahnjihye/allinone_AI/blob/images/10_%EC%84%A0%ED%83%9D%EA%B5%AC%EC%A1%B0%20%EB%8F%99%EC%9E%91%EC%9B%90%EB%A6%AC.png?raw=true' width =800>"
      ]
    },
    {
      "cell_type": "markdown",
      "metadata": {
        "id": "bPlT1z3-RwU2"
      },
      "source": [
        "#### 조건을 만드는 비교연산자\n",
        "\n",
        "a와 b가 같다면\n",
        "> if a == b :      \n",
        "\n",
        "</br>\n",
        "\n",
        "a와 b가 같지 않다면\n",
        "\n",
        "> if a != b :   \n",
        "\n",
        "</br>\n",
        "</br>\n",
        "\n",
        "a가 b보다 크다면\n",
        "> if a > b :     \n",
        "\n",
        "a가 b보다 크거나 같다면 \n",
        "> if a >= b :      \n",
        "\n",
        "a가 b보다 작다면\n",
        "> if a < b :        \n",
        "\n",
        "a가 b보다 작거나 같다면\n",
        "> if a <= b :      \n"
      ]
    },
    {
      "cell_type": "code",
      "metadata": {
        "id": "iRvqSK46RpxB"
      },
      "source": [
        "# 복습 12\n",
        "# 숫자 하나를 입력받고, 해당 숫자가 홀수라면 '홀수입니다' 출력\n",
        "# 짝수라면 '짝수입니다'를 출력하시오\n",
        "num = input('숫자를 입력해주세요 ')\n",
        "num = int(num)\n",
        "\n",
        "if num % 2 == 1 : \n",
        "    print('홀수입니다. ')\n",
        "if num % 2 == 0 : \n",
        "    print('짝수입니다. ')"
      ],
      "execution_count": null,
      "outputs": []
    },
    {
      "cell_type": "markdown",
      "metadata": {
        "id": "7G1pR8ZxSotT"
      },
      "source": [
        "<img src = 'https://github.com/Ahnjihye/allinone_AI/blob/images/11_%EC%84%A0%ED%83%9D%EA%B5%AC%EC%A1%B0_%EC%B0%A8%EB%9F%89%EC%9D%B4%EB%B6%80%EC%A0%9C.png?raw=true' width = 800>"
      ]
    },
    {
      "cell_type": "markdown",
      "metadata": {
        "id": "e9-zsQwiS45U"
      },
      "source": [
        "# 2. 오늘의 진도"
      ]
    },
    {
      "cell_type": "markdown",
      "metadata": {
        "id": "xJvaY1-4q3zB"
      },
      "source": [
        "# 2-1. 조건을 충족하지 않을 때 실행하는 명령어 if-else \n",
        "\n",
        "\n",
        "<img src = 'https://github.com/Ahnjihye/allinone_AI/blob/images/11_%EC%84%A0%ED%83%9D%EA%B5%AC%EC%A1%B02%20-%20%EC%98%88%EC%8B%9C.png?raw=true' width = 300>\n"
      ]
    },
    {
      "cell_type": "markdown",
      "metadata": {
        "id": "RJX1z5ikciFR"
      },
      "source": [
        "\n",
        "**만약 - 그렇지 않으면   실생활 예시**\n",
        "\n",
        "1. 출석체크\n",
        "    <dt>만약 출석이라면, </dt>\n",
        "    <dd>     출석부에 0를 표시해라 </dd>\n",
        "    <dt>그렇지 않으면, </dt>\n",
        "    <dd>    출석부에 X를 표시해라 </dd>\n",
        "\n",
        "</br>\n",
        "\n",
        " 2. 학교 에어컨 자동조절\n",
        "    <dt>만약 온도가 26.5도 이하라면, </dt>\n",
        "    <dd>     에어컨을 온도를 높여라 </dd>\n",
        "    <dt>그렇지 않으면, </dt>\n",
        "    <dd>    에어컨 온도를 낮춰라 </dd>\n",
        "\n",
        "\n",
        "</br>\n",
        "\n",
        "\n",
        "\n",
        "3. 횡단보도 건너기\n",
        "    <dt>만약 신호등이 빨간불이라면, </dt>\n",
        "    <dd>     걸음을 멈춰라 </dd>\n",
        "    <dt>그렇지 않으면, </dt>\n",
        "    <dd>    횡단보도를 건너라 </dd>\n",
        "\n",
        "\n"
      ]
    },
    {
      "cell_type": "markdown",
      "metadata": {
        "id": "X0wjSP28TJp-"
      },
      "source": [
        "<img src = 'https://github.com/Ahnjihye/allinone_AI/blob/images/11_%EC%84%A0%ED%83%9D%EA%B5%AC%EC%A1%B02.png?raw=true' width= 500>"
      ]
    },
    {
      "cell_type": "markdown",
      "metadata": {
        "id": "Yz3hBUSRTvfl"
      },
      "source": [
        "<img src='https://github.com/Ahnjihye/allinone_AI/blob/images/42_if-else.png?raw=true' >"
      ]
    },
    {
      "cell_type": "code",
      "metadata": {
        "id": "nHn8Pn6NhwaF",
        "outputId": "95bb8b47-8c43-4925-cbb6-fecacb613b95",
        "colab": {
          "base_uri": "https://localhost:8080/",
          "height": 52
        }
      },
      "source": [
        "# 실습 1 - 위 코드 바꿔보기 \n",
        "# 숫자 하나를 입력받고, 해당 숫자가 홀수라면 '홀수입니다' 출력\n",
        "# 짝수라면 '짝수입니다'를 출력하시오\n",
        "num = input('숫자를 입력해주세요 ')\n",
        "num = int(num)\n",
        "\n",
        "if num % 2 == 1 : \n",
        "    print('홀수입니다. ')\n",
        "else : \n",
        "    print('짝수입니다. ')"
      ],
      "execution_count": null,
      "outputs": [
        {
          "output_type": "stream",
          "text": [
            "숫자를 입력해주세요 432\n",
            "짝수입니다. \n"
          ],
          "name": "stdout"
        }
      ]
    },
    {
      "cell_type": "code",
      "metadata": {
        "id": "HxzLlEX6hwXf",
        "outputId": "1749f397-dfd2-4b0d-b981-981faf21d18c",
        "colab": {
          "base_uri": "https://localhost:8080/",
          "height": 52
        }
      },
      "source": [
        "# 실습 2\n",
        "# 차량 이부제 프로그래밍\n",
        "# 오늘 일자를 입력받고, 오늘이 짝수날이라면 '짝수번호 차량만 통행 가능합니다.' 출력\n",
        "# 오늘이 홀수날이라면 '홀수번호 차량만 통행가능합니다.' 출력\n",
        "date = input('오늘 일자를 입력해주세요 ')\n",
        "date = int(day)\n",
        "\n",
        "if date %2 == 0 : \n",
        "    print('짝수번호 차량만 통행 가능합니다. ')\n",
        "else : \n",
        "    print('홀수번호 차량만 통행 가능합니다. ')\n"
      ],
      "execution_count": null,
      "outputs": [
        {
          "output_type": "stream",
          "text": [
            "오늘 일자를 입력해주세요19\n",
            "홀수번호 차량만 통행 가능합니다. \n"
          ],
          "name": "stdout"
        }
      ]
    },
    {
      "cell_type": "code",
      "metadata": {
        "id": "Lbarsr94hwcP"
      },
      "source": [
        "# 실습 3\n",
        "# 목욕탕 입장료는 미성년자가 6000원, 성인이 15000원이다. \n",
        "# 나이를 입력받아 나이에 맞는 목욕탕 입장료를 출력하시오\n",
        "# 단, 나이를 저장하는 변수는 age, 목욕탕 입장료를 저장하는 변수는 price이다. \n",
        "age = input('나이가 어떻게 되십니까?')\n",
        "age = int(age)\n",
        "\n",
        "if age <20 : \n",
        "    price = 6000\n",
        "else : \n",
        "    price = 15000\n",
        "\n",
        "print(age,'살의 입장료는',price,'원 입니다. ')"
      ],
      "execution_count": null,
      "outputs": []
    },
    {
      "cell_type": "markdown",
      "metadata": {
        "id": "PqxnHlzXhhsE"
      },
      "source": [
        "# 2-2. 반복구조\n",
        "> 같은 명령을 여러번 반복하는 반복문\n",
        "\n",
        "</br>\n",
        "\n",
        "실생활 반복구조 예시\n",
        "> 매일 아침 같은 시간에 알람이 울린다.\n",
        "\n",
        "> 매일 같은 시간에 점심을 먹는다.\n",
        "\n",
        "> 우리반 시간표에 따라 일주일마다 반복하여 수업이 진행된다. (1년간)\n",
        "\n",
        "</br>\n",
        "</br>\n",
        "\n",
        "### 파이썬으로 반복문 표현하기\n",
        "\n",
        "<img src='https://github.com/Ahnjihye/allinone_AI/blob/images/4_%EB%B0%98%EB%B3%B5%EB%AC%B8.png?raw=true' width = 500>\n",
        "\n",
        "\n",
        "**a = 변수**\n",
        "\n",
        "**data = 여러 값이 묶어져 있는 데이터묶음**"
      ]
    },
    {
      "cell_type": "code",
      "metadata": {
        "id": "U8F8R8bRhlbn"
      },
      "source": [
        "for a in [1, 2, 3, 4, 5]: \n",
        "    print('안녕하세요')"
      ],
      "execution_count": null,
      "outputs": []
    },
    {
      "cell_type": "markdown",
      "metadata": {
        "id": "AAFN3jCukfhA"
      },
      "source": [
        "<img src ='https://github.com/Ahnjihye/allinone_AI/blob/images/5_%EB%B0%98%EB%B3%B5%EB%AC%B8%20%EB%8F%99%EC%9E%91%EA%B5%AC%EC%A1%B0.png?raw=true' width=600>"
      ]
    },
    {
      "cell_type": "code",
      "metadata": {
        "id": "QwVzy1IYkf2m",
        "outputId": "71a58336-1f4f-42f7-9e5d-da5e13eeef00",
        "colab": {
          "base_uri": "https://localhost:8080/"
        }
      },
      "source": [
        "for a in [1, 2, 3, 4, 5]: \n",
        "    print(a)"
      ],
      "execution_count": null,
      "outputs": [
        {
          "output_type": "stream",
          "text": [
            "1\n",
            "2\n",
            "3\n",
            "4\n",
            "5\n"
          ],
          "name": "stdout"
        }
      ]
    },
    {
      "cell_type": "code",
      "metadata": {
        "id": "j2hqR-LRkmgL",
        "outputId": "5a818025-f5ba-415c-c81c-5c26cc830ece",
        "colab": {
          "base_uri": "https://localhost:8080/"
        }
      },
      "source": [
        "for a in [1, 2, 3, 4, 5]: \n",
        "    print(a,'를 저장중입니다.')"
      ],
      "execution_count": null,
      "outputs": [
        {
          "output_type": "stream",
          "text": [
            "1 를 저장중입니다.\n",
            "2 를 저장중입니다.\n",
            "3 를 저장중입니다.\n",
            "4 를 저장중입니다.\n",
            "5 를 저장중입니다.\n"
          ],
          "name": "stdout"
        }
      ]
    },
    {
      "cell_type": "code",
      "metadata": {
        "id": "SJFF5jPxkqsk"
      },
      "source": [
        "for a in [10, 20, 30, 40, 50]: \n",
        "    print(a)"
      ],
      "execution_count": null,
      "outputs": []
    },
    {
      "cell_type": "markdown",
      "metadata": {
        "id": "dEC0F4KWk1G7"
      },
      "source": [
        "#### range(a, b) - 연속된 숫자 간단하게 표현하기\n",
        "\n",
        "> range(시작숫자, 종료숫자)\n",
        "\n",
        "</br>\n",
        "\n",
        "a = 시작숫자     \n",
        "b = 종료숫자\n",
        "\n",
        "> range(a, b)\n",
        "</br> a부터 시작해 b가되면 종료한다. "
      ]
    },
    {
      "cell_type": "code",
      "metadata": {
        "id": "peBW2lV2kuPb",
        "outputId": "3977c94d-aa05-40a5-b747-d8dcb0920697",
        "colab": {
          "base_uri": "https://localhost:8080/"
        }
      },
      "source": [
        "for i in range(1, 20): \n",
        "    print('선생님, 다시는 청소를 빼먹지 않겠습니다.')\n"
      ],
      "execution_count": null,
      "outputs": [
        {
          "output_type": "stream",
          "text": [
            "선생님, 다시는 청소를 빼먹지 않겠습니다.\n",
            "선생님, 다시는 청소를 빼먹지 않겠습니다.\n",
            "선생님, 다시는 청소를 빼먹지 않겠습니다.\n",
            "선생님, 다시는 청소를 빼먹지 않겠습니다.\n",
            "선생님, 다시는 청소를 빼먹지 않겠습니다.\n",
            "선생님, 다시는 청소를 빼먹지 않겠습니다.\n",
            "선생님, 다시는 청소를 빼먹지 않겠습니다.\n",
            "선생님, 다시는 청소를 빼먹지 않겠습니다.\n",
            "선생님, 다시는 청소를 빼먹지 않겠습니다.\n",
            "선생님, 다시는 청소를 빼먹지 않겠습니다.\n",
            "선생님, 다시는 청소를 빼먹지 않겠습니다.\n",
            "선생님, 다시는 청소를 빼먹지 않겠습니다.\n",
            "선생님, 다시는 청소를 빼먹지 않겠습니다.\n",
            "선생님, 다시는 청소를 빼먹지 않겠습니다.\n",
            "선생님, 다시는 청소를 빼먹지 않겠습니다.\n",
            "선생님, 다시는 청소를 빼먹지 않겠습니다.\n",
            "선생님, 다시는 청소를 빼먹지 않겠습니다.\n",
            "선생님, 다시는 청소를 빼먹지 않겠습니다.\n",
            "선생님, 다시는 청소를 빼먹지 않겠습니다.\n"
          ],
          "name": "stdout"
        }
      ]
    },
    {
      "cell_type": "code",
      "metadata": {
        "id": "uFojHk-UkuVa",
        "outputId": "ab509e03-07d6-407f-ca0f-493af32a893e",
        "colab": {
          "base_uri": "https://localhost:8080/"
        }
      },
      "source": [
        "for i in range(1, 20): \n",
        "    print(i, '선생님, 다시는 청소를 빼먹지 않겠습니다.')\n"
      ],
      "execution_count": null,
      "outputs": [
        {
          "output_type": "stream",
          "text": [
            "1 선생님, 다시는 청소를 빼먹지 않겠습니다.\n",
            "2 선생님, 다시는 청소를 빼먹지 않겠습니다.\n",
            "3 선생님, 다시는 청소를 빼먹지 않겠습니다.\n",
            "4 선생님, 다시는 청소를 빼먹지 않겠습니다.\n",
            "5 선생님, 다시는 청소를 빼먹지 않겠습니다.\n",
            "6 선생님, 다시는 청소를 빼먹지 않겠습니다.\n",
            "7 선생님, 다시는 청소를 빼먹지 않겠습니다.\n",
            "8 선생님, 다시는 청소를 빼먹지 않겠습니다.\n",
            "9 선생님, 다시는 청소를 빼먹지 않겠습니다.\n",
            "10 선생님, 다시는 청소를 빼먹지 않겠습니다.\n",
            "11 선생님, 다시는 청소를 빼먹지 않겠습니다.\n",
            "12 선생님, 다시는 청소를 빼먹지 않겠습니다.\n",
            "13 선생님, 다시는 청소를 빼먹지 않겠습니다.\n",
            "14 선생님, 다시는 청소를 빼먹지 않겠습니다.\n",
            "15 선생님, 다시는 청소를 빼먹지 않겠습니다.\n",
            "16 선생님, 다시는 청소를 빼먹지 않겠습니다.\n",
            "17 선생님, 다시는 청소를 빼먹지 않겠습니다.\n",
            "18 선생님, 다시는 청소를 빼먹지 않겠습니다.\n",
            "19 선생님, 다시는 청소를 빼먹지 않겠습니다.\n"
          ],
          "name": "stdout"
        }
      ]
    },
    {
      "cell_type": "markdown",
      "metadata": {
        "id": "FnfojG0Lxo6a"
      },
      "source": [
        "<img src='https://github.com/Ahnjihye/allinone_AI/blob/images/43_%EB%B0%98%EB%B3%B5%EA%B5%AC%EC%A1%B0%20%EB%8F%99%EC%9E%91%EC%9B%90%EB%A6%AC.png?raw=true' width =700>"
      ]
    },
    {
      "cell_type": "markdown",
      "metadata": {
        "id": "L_9bSbzIySFd"
      },
      "source": [
        "#### range(a, b)의 특성\n",
        "> range(시작숫자, 종료숫자) 에서 종료숫자는 범위에 포함되지 않는다!!\n",
        "</br>\n",
        "> 시작숫자 ~ 종료숫자-1 까지 반복됨 "
      ]
    },
    {
      "cell_type": "code",
      "metadata": {
        "id": "LHk_Gae9kurh"
      },
      "source": [
        "# 실습 4\n",
        "# 10부터 20까지 출력해보기\n",
        "for i in range(10, 21) : \n",
        "    print(i)"
      ],
      "execution_count": null,
      "outputs": []
    },
    {
      "cell_type": "code",
      "metadata": {
        "id": "DiMjC-7RkuSe",
        "outputId": "08e74f18-79c9-4e4f-ccd6-d7e57ff88f60",
        "colab": {
          "base_uri": "https://localhost:8080/"
        }
      },
      "source": [
        "# 실습 5\n",
        "# 1부터 50까지 모든 숫자의 합을 구하는 프로그램\n",
        "result = 0\n",
        "\n",
        "for i in range(1,51): \n",
        "    result += i\n",
        "\n",
        "print(result)"
      ],
      "execution_count": null,
      "outputs": [
        {
          "output_type": "stream",
          "text": [
            "1275\n"
          ],
          "name": "stdout"
        }
      ]
    },
    {
      "cell_type": "code",
      "metadata": {
        "id": "Gki9Z2p5305J"
      },
      "source": [
        "# 실습 6\n",
        "# 숫자 하나를 입력받아\n",
        "# 1부터 해당 숫자까지의 합을 구하시오\n",
        "\n"
      ],
      "execution_count": null,
      "outputs": []
    },
    {
      "cell_type": "markdown",
      "metadata": {
        "id": "Q4ioDc-ry82C"
      },
      "source": [
        "#### range(종료숫자) - 시작숫자를 생략하기!!\n",
        ">  range()에서 시작숫자를 생략할 수 있다. \n",
        "</br>\n",
        "> range(종료숫자)    :    0 ~ 종료숫자-1  "
      ]
    },
    {
      "cell_type": "code",
      "metadata": {
        "id": "ogsUKemgkupM"
      },
      "source": [
        "for i in range(20): \n",
        "    print(i, '선생님, 다시는 청소를 빼먹지 않겠습니다.')\n"
      ],
      "execution_count": null,
      "outputs": []
    },
    {
      "cell_type": "code",
      "metadata": {
        "id": "6apRlmpdkuyr",
        "outputId": "f9208dcc-8d3d-4ecf-cc30-8bf43c000a24",
        "colab": {
          "base_uri": "https://localhost:8080/"
        }
      },
      "source": [
        "# 실습 7\n",
        "# 15:00분 ~ 15:10분까지 1분단위로 출력해보기\n",
        "# 15시 [분]입니다\n",
        "for i in range(11) : \n",
        "    print('15시', i, '분입니다.') "
      ],
      "execution_count": null,
      "outputs": [
        {
          "output_type": "stream",
          "text": [
            "15시 0 분입니다.\n",
            "15시 1 분입니다.\n",
            "15시 2 분입니다.\n",
            "15시 3 분입니다.\n",
            "15시 4 분입니다.\n",
            "15시 5 분입니다.\n",
            "15시 6 분입니다.\n",
            "15시 7 분입니다.\n",
            "15시 8 분입니다.\n",
            "15시 9 분입니다.\n",
            "15시 10 분입니다.\n"
          ],
          "name": "stdout"
        }
      ]
    },
    {
      "cell_type": "markdown",
      "metadata": {
        "id": "7VjdFiuD5txp"
      },
      "source": [
        "**반복문으로 구구단 4단 출력하기**\n",
        "\n",
        "<img src ='https://github.com/Ahnjihye/allinone_AI/blob/images/44_%EA%B5%AC%EA%B5%AC%EB%8B%A84%EB%8B%A8.png?raw=true' width = 100>\n",
        "\n",
        "</br>\n",
        "\n",
        "> 변하는 부분과, 변하지 않는 부분을 파악하기"
      ]
    },
    {
      "cell_type": "code",
      "metadata": {
        "id": "aynb2Yvl4YQK",
        "outputId": "f157c733-d0ec-429a-ccf9-e4afb7cb82b4",
        "colab": {
          "base_uri": "https://localhost:8080/"
        }
      },
      "source": [
        "# 실습 8\n",
        "# 구구단 4단을 출력하기\n",
        "# 출력 형태는 '4 x 1 = 4', '4 x 2 = 8' ...'4 x 9 = 36'\n",
        "for i in range(1, 10) : \n",
        "    print('4 x', i, '=', 4*i)"
      ],
      "execution_count": null,
      "outputs": [
        {
          "output_type": "stream",
          "text": [
            "4 x 1 = 4\n",
            "4 x 2 = 8\n",
            "4 x 3 = 12\n",
            "4 x 4 = 16\n",
            "4 x 5 = 20\n",
            "4 x 6 = 24\n",
            "4 x 7 = 28\n",
            "4 x 8 = 32\n",
            "4 x 9 = 36\n"
          ],
          "name": "stdout"
        }
      ]
    },
    {
      "cell_type": "markdown",
      "metadata": {
        "id": "Hur3AD_Q6FWA"
      },
      "source": [
        "<img src='https://github.com/Ahnjihye/allinone_AI/blob/images/45_%EA%B5%AC%EA%B5%AC%EB%8B%A8%204%EB%8B%A8.png?raw=true' width=300>"
      ]
    },
    {
      "cell_type": "code",
      "metadata": {
        "id": "M07ebqeM4YUM",
        "outputId": "40dc7fed-7a58-412b-a49e-5662adb3dde4",
        "colab": {
          "base_uri": "https://localhost:8080/"
        }
      },
      "source": [
        "# 실습 9\n",
        "# 숫자 하나를 입력받아\n",
        "# 해당 숫자의 구구단을 출력하기\n",
        "num = int(input('구구단 몇단을 외울까요? '))\n",
        "\n",
        "for i in range(1, 10) : \n",
        "    print(num,'x',i,'=',num*i)"
      ],
      "execution_count": null,
      "outputs": [
        {
          "output_type": "stream",
          "text": [
            "구구단 몇단을 외울까요? 5\n",
            "5 x 1 = 5\n",
            "5 x 2 = 10\n",
            "5 x 3 = 15\n",
            "5 x 4 = 20\n",
            "5 x 5 = 25\n",
            "5 x 6 = 30\n",
            "5 x 7 = 35\n",
            "5 x 8 = 40\n",
            "5 x 9 = 45\n"
          ],
          "name": "stdout"
        }
      ]
    },
    {
      "cell_type": "markdown",
      "metadata": {
        "id": "PjHkUiXS68NT"
      },
      "source": [
        "<img src='https://github.com/Ahnjihye/allinone_AI/blob/images/46_%EC%88%AB%EC%9E%90%EC%9E%85%EB%A0%A5%EB%B0%9B%EC%95%84%20%EA%B5%AC%EA%B5%AC%EB%8B%A8.png?raw=true' width=250>"
      ]
    },
    {
      "cell_type": "markdown",
      "metadata": {
        "id": "GJD6SkFN986Y"
      },
      "source": [
        "### 라이브러리 활용하여 구구단 게임 만들어보기\n",
        "\n",
        "**라이브러리란**\n",
        "특정 기능과 관련된 명령어를 사용하기 편하게 묶어놓은 명령어 모음\n",
        "\n",
        "<img src='https://github.com/Ahnjihye/allinone_AI/blob/images/47_%EB%9D%BC%EC%9D%B4%EB%B8%8C%EB%9F%AC%EB%A6%AC.png?raw=true' width = 600>\n",
        "\n",
        "---\n",
        "1.   import 라이브러리이름    \n",
        "2.   해당 라이브러리 안의 명령어를 사용\n",
        "---\n",
        "\n",
        "<img src='https://github.com/Ahnjihye/allinone_AI/blob/images/48_%EB%9D%BC%EC%9D%B4%EB%B8%8C%EB%9F%AC%EB%A6%AC.png?raw=true' width = 400>"
      ]
    },
    {
      "cell_type": "code",
      "metadata": {
        "id": "NOMCP7Jx97vF",
        "outputId": "867b266b-47b2-4c4d-88e7-e21118ceae3e",
        "colab": {
          "base_uri": "https://localhost:8080/"
        }
      },
      "source": [
        "import random\n",
        "random.random()"
      ],
      "execution_count": null,
      "outputs": [
        {
          "output_type": "execute_result",
          "data": {
            "text/plain": [
              "0.82278773830836"
            ]
          },
          "metadata": {
            "tags": []
          },
          "execution_count": 16
        }
      ]
    },
    {
      "cell_type": "markdown",
      "metadata": {
        "id": "Tf0iHUafLJfc"
      },
      "source": [
        "> random.random()\n",
        "</br>\n",
        "> 0부터 1사이의 임의의 값 출력\n"
      ]
    },
    {
      "cell_type": "code",
      "metadata": {
        "id": "4uPvp5-e4YOH",
        "outputId": "c4187964-e4c2-4f59-9ca6-665fb6e39b4e",
        "colab": {
          "base_uri": "https://localhost:8080/"
        }
      },
      "source": [
        " num = random.randint(1, 10)\n",
        " print(num)"
      ],
      "execution_count": null,
      "outputs": [
        {
          "output_type": "stream",
          "text": [
            "6\n"
          ],
          "name": "stdout"
        }
      ]
    },
    {
      "cell_type": "markdown",
      "metadata": {
        "id": "oFUWUlfeLYy9"
      },
      "source": [
        "> random.randint(a, b)\n",
        "</br>\n",
        "> 시작숫자 ~ 종료숫자 사이의 임의의 값 출력\n",
        "</br>\n",
        "> 종료숫자를 포함함!\n"
      ]
    },
    {
      "cell_type": "code",
      "metadata": {
        "id": "tuvgA4-t4YLh",
        "outputId": "b7e66dd5-ec3e-4ec7-c2f3-c9620f5450de",
        "colab": {
          "base_uri": "https://localhost:8080/"
        }
      },
      "source": [
        "import random \n",
        "for i in range(20): \n",
        "    num = random.randint(0, 10)\n",
        "    print(num)\n"
      ],
      "execution_count": 29,
      "outputs": [
        {
          "output_type": "stream",
          "text": [
            "5\n",
            "2\n",
            "7\n",
            "4\n",
            "4\n",
            "5\n",
            "10\n",
            "4\n",
            "10\n",
            "5\n",
            "4\n",
            "2\n",
            "8\n",
            "6\n",
            "8\n",
            "6\n",
            "2\n",
            "6\n",
            "10\n",
            "0\n"
          ],
          "name": "stdout"
        }
      ]
    },
    {
      "cell_type": "markdown",
      "metadata": {
        "id": "ChW7KU_-L3fN"
      },
      "source": [
        "### 구구단 프로그램 1\n",
        "임의의 두 숫자 곱셈을 물어보고, 답을 바로 출력해보기! \n",
        "\n",
        "    7 x 9 ? 63\n",
        "    3 x 7 ? 21\n",
        "    5 x 6 ? 30\n",
        "    ....\n",
        "    10번 반복\n",
        "\n",
        "**변하는 부분과 변하지 않는 부분은?**\n",
        "</br>"
      ]
    },
    {
      "cell_type": "markdown",
      "metadata": {
        "id": "_VqxY51CS11j"
      },
      "source": [
        "<img src = 'https://github.com/Ahnjihye/allinone_AI/blob/images/49_%EA%B5%AC%EA%B5%AC%EB%8B%A8%EA%B2%8C%EC%9E%841.png?raw=true' width = 300>"
      ]
    },
    {
      "cell_type": "code",
      "metadata": {
        "id": "8DO8e5F5RDkB",
        "outputId": "0f40ad11-3db8-4081-8967-ba82e5e8f696",
        "colab": {
          "base_uri": "https://localhost:8080/"
        }
      },
      "source": [
        "# 실습 10\n",
        "# 임의의 두 숫자 곱셈을 물어보고 바로 답을 출력하기\n",
        "import random\n",
        "\n",
        "for i in range(10) : \n",
        "    a = random.randint(2, 9)\n",
        "    b = random.randint(1, 9)\n",
        "    print(a,'x',b,'?', a*b)"
      ],
      "execution_count": 31,
      "outputs": [
        {
          "output_type": "stream",
          "text": [
            "4 x 8 ? 32\n",
            "6 x 4 ? 24\n",
            "5 x 1 ? 5\n",
            "9 x 6 ? 54\n",
            "8 x 7 ? 56\n",
            "9 x 8 ? 72\n",
            "4 x 6 ? 24\n",
            "4 x 4 ? 16\n",
            "7 x 4 ? 28\n",
            "3 x 4 ? 12\n"
          ],
          "name": "stdout"
        }
      ]
    },
    {
      "cell_type": "markdown",
      "metadata": {
        "id": "rtqNzv46RP3I"
      },
      "source": [
        "<img src='https://github.com/Ahnjihye/allinone_AI/blob/images/50_%EA%B5%AC%EA%B5%AC%EB%8B%A8%EA%B2%8C%EC%9E%841.png?raw=true' width=600>"
      ]
    },
    {
      "cell_type": "markdown",
      "metadata": {
        "id": "s35U_D_jTV6T"
      },
      "source": [
        "### 구구단 프로그램 2\n",
        "임의의 두 숫자 곱셈을 물어보고, 답을 바로 **입력받기**! \n",
        "\n",
        "    7 x 9 ? [ 입력칸 ]\n",
        "    3 x 7 ? [ 입력칸 ]\n",
        "    5 x 6 ? [ 입력칸 ]\n",
        "    ....\n",
        "    10번 반복\n",
        "\n",
        "**변하는 부분과 변하지 않는 부분은?**\n",
        "</br>"
      ]
    },
    {
      "cell_type": "markdown",
      "metadata": {
        "id": "tbG3qvL_REIV"
      },
      "source": [
        "<img src='https://github.com/Ahnjihye/allinone_AI/blob/images/51_%EA%B5%AC%EA%B5%AC%EB%8B%A8%EA%B2%8C%EC%9E%842.png?raw=true' width= 300> "
      ]
    },
    {
      "cell_type": "code",
      "metadata": {
        "id": "QHGdC0XERDoo"
      },
      "source": [
        "# 실습 11\n",
        "# 임의의 두 숫자 곱셈을 물어보고 바로 답을 입력받기\n",
        "import random\n",
        "\n",
        "for i in range(10) : \n",
        "    a = random.randint(2, 9)\n",
        "    b = random.randint(1, 9)\n",
        "    print(a,'x',b,'?')\n",
        "    input()"
      ],
      "execution_count": null,
      "outputs": []
    },
    {
      "cell_type": "markdown",
      "metadata": {
        "id": "T7WWbksARqAu"
      },
      "source": [
        "<img src='https://github.com/Ahnjihye/allinone_AI/blob/images/53_%EA%B5%AC%EA%B5%AC%EB%8B%A8%EA%B2%8C%EC%9E%842.png?raw=true' width = 600>"
      ]
    },
    {
      "cell_type": "markdown",
      "metadata": {
        "id": "q5coj2hnT1cg"
      },
      "source": [
        "### 구구단 프로그램 3\n",
        "임의의 두 숫자 곱셈을 물어보고, 답을 바로 **입력받고, 정답이 아닌 경우 '땡!'을 출력**! \n",
        "\n",
        "    7 x 9 ? [ 입력칸 ]\n",
        "    13 입력시 print('땡!')\n",
        "    ....\n",
        "    10번 반복\n",
        "\n",
        "**변하는 부분과 변하지 않는 부분은?**\n",
        "</br>"
      ]
    },
    {
      "cell_type": "markdown",
      "metadata": {
        "id": "pJQ5l_rtRtqZ"
      },
      "source": [
        "<img src = 'https://github.com/Ahnjihye/allinone_AI/blob/images/54_%EA%B5%AC%EA%B5%AC%EB%8B%A8%EA%B2%8C%EC%9E%843.png?raw=true' width = 300>"
      ]
    },
    {
      "cell_type": "code",
      "metadata": {
        "id": "Zt9NZltNRDhn",
        "outputId": "0386dffc-bb20-4c47-b75a-0a50f91228a1",
        "colab": {
          "base_uri": "https://localhost:8080/"
        }
      },
      "source": [
        "# 실습 12\n",
        "# 임의의 두 숫자 곱셈을 물어보고 바로 답을 입력받기\n",
        "# 입력받은 답이 틀린 경우 '땡!'을 출력하기\n",
        "import random\n",
        "\n",
        "for i in range(10) : \n",
        "    a = random.randint(2, 9)\n",
        "    b = random.randint(1, 9)\n",
        "    print(a,'x',b,'?')\n",
        "    answer = int(input())\n",
        "\n",
        "    if answer != a*b : \n",
        "        print('땡!')"
      ],
      "execution_count": 36,
      "outputs": [
        {
          "output_type": "stream",
          "text": [
            "2 x 3 ?\n",
            "6\n",
            "4 x 8 ?\n",
            "32\n",
            "7 x 6 ?\n",
            "42\n",
            "9 x 4 ?\n",
            "55\n",
            "땡!\n",
            "3 x 4 ?\n",
            "1000\n",
            "땡!\n",
            "9 x 8 ?\n",
            "4\n",
            "땡!\n",
            "6 x 5 ?\n",
            "30\n",
            "8 x 1 ?\n",
            "8\n",
            "8 x 9 ?\n",
            "82\n",
            "땡!\n",
            "8 x 5 ?\n",
            "40\n"
          ],
          "name": "stdout"
        }
      ]
    },
    {
      "cell_type": "markdown",
      "metadata": {
        "id": "sLHu_OUGRzCj"
      },
      "source": [
        "<img src ='https://github.com/Ahnjihye/allinone_AI/blob/images/55_%EA%B5%AC%EA%B5%AC%EB%8B%A8%EA%B2%8C%EC%9E%843.png?raw=true' width=700>"
      ]
    },
    {
      "cell_type": "code",
      "metadata": {
        "id": "N2-1PwP0LFGU"
      },
      "source": [
        ""
      ],
      "execution_count": null,
      "outputs": []
    },
    {
      "cell_type": "code",
      "metadata": {
        "id": "6oXHQumbRyMt"
      },
      "source": [
        ""
      ],
      "execution_count": null,
      "outputs": []
    },
    {
      "cell_type": "code",
      "metadata": {
        "id": "M-meuH2-R4Pj"
      },
      "source": [
        ""
      ],
      "execution_count": null,
      "outputs": []
    }
  ]
}