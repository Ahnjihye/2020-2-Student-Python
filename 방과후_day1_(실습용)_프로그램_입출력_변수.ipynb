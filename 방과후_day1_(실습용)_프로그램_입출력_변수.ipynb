{
  "nbformat": 4,
  "nbformat_minor": 0,
  "metadata": {
    "colab": {
      "name": "방과후 day1 (실습용). 프로그램/입출력/변수.ipynb",
      "provenance": [],
      "collapsed_sections": [],
      "authorship_tag": "ABX9TyPk7RP/w6lGfROCVr2lVSmO",
      "include_colab_link": true
    },
    "kernelspec": {
      "name": "python3",
      "display_name": "Python 3"
    }
  },
  "cells": [
    {
      "cell_type": "markdown",
      "metadata": {
        "id": "view-in-github",
        "colab_type": "text"
      },
      "source": [
        "<a href=\"https://colab.research.google.com/github/Ahnjihye/2020-2-Student-Python/blob/main/%EB%B0%A9%EA%B3%BC%ED%9B%84_day1_(%EC%8B%A4%EC%8A%B5%EC%9A%A9)_%ED%94%84%EB%A1%9C%EA%B7%B8%EB%9E%A8_%EC%9E%85%EC%B6%9C%EB%A0%A5_%EB%B3%80%EC%88%98.ipynb\" target=\"_parent\"><img src=\"https://colab.research.google.com/assets/colab-badge.svg\" alt=\"Open In Colab\"/></a>"
      ]
    },
    {
      "cell_type": "markdown",
      "metadata": {
        "id": "Cr2WZav4DeMU"
      },
      "source": [
        "# 1. 인공지능 알아보기"
      ]
    },
    {
      "cell_type": "markdown",
      "metadata": {
        "id": "ZhrhgjyuB9_C"
      },
      "source": [
        "### 1) 인공지능이란?"
      ]
    },
    {
      "cell_type": "markdown",
      "metadata": {
        "id": "bSBf8UToGQ_5"
      },
      "source": [
        "<img src=\"https://github.com/Ahnjihye/allinone_AI/blob/images/AI%20intro-001.png?raw=true\" width=700>\n",
        "\n",
        "<img src=\"https://github.com/Ahnjihye/allinone_AI/blob/images/AI%20intro-002.png?raw=true\" width=700>\n",
        "\n",
        "<img src=\"https://github.com/Ahnjihye/allinone_AI/blob/images/AI%20intro-003.png?raw=true\" width=700>\n",
        "\n",
        "<img src=\"https://github.com/Ahnjihye/allinone_AI/blob/images/AI%20intro-004.png?raw=true\" width=700>"
      ]
    },
    {
      "cell_type": "markdown",
      "metadata": {
        "id": "X59BpUx4DSzJ"
      },
      "source": [
        "### 2) 인공지능 체험해보기\n",
        "\n",
        "[티쳐블 머신 바로가기](https://teachablemachine.withgoogle.com/)\n",
        "\n",
        "[인공지능이 수화를 학습할 수 있을까?](https://www.bbc.com/korean/international-44952310)\n",
        "\n",
        "[사람의 몸짓도 학습할 수 있을까?](https://youtu.be/K3oD5__w_Nw)\n",
        "\n"
      ]
    },
    {
      "cell_type": "markdown",
      "metadata": {
        "id": "lbJeIVooDXyT"
      },
      "source": [
        "### 3) 인공지능을 직접 만들려면 무엇을 알아야 하나요?"
      ]
    },
    {
      "cell_type": "code",
      "metadata": {
        "id": "wVaq7kgSDcGf"
      },
      "source": [
        ""
      ],
      "execution_count": null,
      "outputs": []
    },
    {
      "cell_type": "markdown",
      "metadata": {
        "id": "JPOhAH2kDoDU"
      },
      "source": [
        "# 파이썬에 대해 본격적으로 배워봅시다!\n",
        "\n",
        "<img src='https://github.com/Ahnjihye/allinone_AI/blob/images/0_%EB%AA%85%EB%A0%B9%EC%96%B4.png?raw=true' width=400>"
      ]
    },
    {
      "cell_type": "markdown",
      "metadata": {
        "id": "oGjNzjYeDuzI"
      },
      "source": [
        "# 1. 출력 명령어 print()\n",
        "\n",
        "\n",
        "\n",
        "```\n",
        "print(출력할 내용)\n",
        "```\n",
        "\n"
      ]
    },
    {
      "cell_type": "code",
      "metadata": {
        "id": "ON8D_neeDs2l"
      },
      "source": [
        ""
      ],
      "execution_count": null,
      "outputs": []
    },
    {
      "cell_type": "code",
      "metadata": {
        "id": "1PSrTqHfQGSe"
      },
      "source": [
        ""
      ],
      "execution_count": null,
      "outputs": []
    },
    {
      "cell_type": "code",
      "metadata": {
        "id": "hiaohvQ8QJ_9"
      },
      "source": [
        ""
      ],
      "execution_count": null,
      "outputs": []
    },
    {
      "cell_type": "code",
      "metadata": {
        "id": "FIMG6LVxQL6f"
      },
      "source": [
        ""
      ],
      "execution_count": null,
      "outputs": []
    },
    {
      "cell_type": "code",
      "metadata": {
        "id": "6b20_p1uQL9y"
      },
      "source": [
        ""
      ],
      "execution_count": null,
      "outputs": []
    },
    {
      "cell_type": "code",
      "metadata": {
        "id": "5RT762l3BNmO"
      },
      "source": [
        ""
      ],
      "execution_count": null,
      "outputs": []
    },
    {
      "cell_type": "markdown",
      "metadata": {
        "id": "QAO9DTSFRTKj"
      },
      "source": [
        "### * 문자는 따옴표로 감싸주자! \n",
        "\n",
        "\n",
        "\n",
        "```\n",
        "print(이름)    # 에러 발생\n",
        "print('이름')  # 정상 실행\n",
        "```\n",
        "\n"
      ]
    },
    {
      "cell_type": "code",
      "metadata": {
        "id": "5T2h0ieGD9uS"
      },
      "source": [
        ""
      ],
      "execution_count": null,
      "outputs": []
    },
    {
      "cell_type": "code",
      "metadata": {
        "id": "rld-iCivD9w3"
      },
      "source": [
        ""
      ],
      "execution_count": null,
      "outputs": []
    },
    {
      "cell_type": "code",
      "metadata": {
        "id": "r5Buq8LSD934"
      },
      "source": [
        ""
      ],
      "execution_count": null,
      "outputs": []
    },
    {
      "cell_type": "markdown",
      "metadata": {
        "id": "ALmg1jLER48C"
      },
      "source": [
        "### 문자와 숫자는 계산이 안된다!! "
      ]
    },
    {
      "cell_type": "code",
      "metadata": {
        "id": "hLU0u3PXR_Zv"
      },
      "source": [
        "# 몫을 구하는 연산자 //\n",
        "# 나머지를 구하는 연산자  %\n"
      ],
      "execution_count": null,
      "outputs": []
    },
    {
      "cell_type": "code",
      "metadata": {
        "id": "e80BZrWgR_dF"
      },
      "source": [
        "\n"
      ],
      "execution_count": null,
      "outputs": []
    },
    {
      "cell_type": "markdown",
      "metadata": {
        "id": "VOViLJpcSZ4H"
      },
      "source": [
        "### 여러 요소 결합하여 출력하기 - 콤마로 연결하여 print()\n",
        "\n",
        "\n",
        "```\n",
        "print(내용1, 내용2, 내용3)\n",
        "```\n",
        "\n"
      ]
    },
    {
      "cell_type": "code",
      "metadata": {
        "id": "2zIwB0yISkq9"
      },
      "source": [
        ""
      ],
      "execution_count": null,
      "outputs": []
    },
    {
      "cell_type": "code",
      "metadata": {
        "id": "m_OUoOaeTgzI"
      },
      "source": [
        ""
      ],
      "execution_count": null,
      "outputs": []
    },
    {
      "cell_type": "code",
      "metadata": {
        "id": "-7zqjfcBTl5H"
      },
      "source": [
        "\n"
      ],
      "execution_count": null,
      "outputs": []
    },
    {
      "cell_type": "code",
      "metadata": {
        "id": "EfXUrhpBaLS9"
      },
      "source": [
        "# 실습1 \n",
        "# 본인 학번, 이름을 한 줄로 출력해보기!\n"
      ],
      "execution_count": null,
      "outputs": []
    },
    {
      "cell_type": "markdown",
      "metadata": {
        "id": "6dNSk92wD-Jk"
      },
      "source": [
        "# 2. 입력 명령어 input()\n",
        "\n",
        "```\n",
        "input()\n",
        "```\n",
        "\n"
      ]
    },
    {
      "cell_type": "code",
      "metadata": {
        "id": "_WPfsGEwD91j"
      },
      "source": [
        ""
      ],
      "execution_count": null,
      "outputs": []
    },
    {
      "cell_type": "markdown",
      "metadata": {
        "id": "MdoEs5nET0q0"
      },
      "source": [
        "### 입력안내문 넣기\n",
        "\n",
        "\n",
        "```\n",
        "input('입력안내문')\n",
        "```\n",
        "\n"
      ]
    },
    {
      "cell_type": "code",
      "metadata": {
        "id": "_X_u18qLEAlJ"
      },
      "source": [
        ""
      ],
      "execution_count": null,
      "outputs": []
    },
    {
      "cell_type": "code",
      "metadata": {
        "id": "SY0BvsQSEAnv"
      },
      "source": [
        ""
      ],
      "execution_count": null,
      "outputs": []
    },
    {
      "cell_type": "code",
      "metadata": {
        "id": "2n2gO24yEArK"
      },
      "source": [
        "# 실습2 \n",
        "# 아이디/비밀번호를 이외에 자주 사용되는 입력칸은 무엇이 있을까요?\n",
        "# input() 명령어를 활용하여 작성해봅시다!\n"
      ],
      "execution_count": null,
      "outputs": []
    },
    {
      "cell_type": "markdown",
      "metadata": {
        "id": "mOdQ7cMEEA6X"
      },
      "source": [
        "# 3. 변수 : 데이터를 저장하는 공간\n",
        "```\n",
        "변수이름 = 저장할 데이터\n",
        "name = '안지혜'\n",
        "school = '관악고'\n",
        "```\n"
      ]
    },
    {
      "cell_type": "code",
      "metadata": {
        "id": "xYvahOomZyai"
      },
      "source": [
        ""
      ],
      "execution_count": null,
      "outputs": []
    },
    {
      "cell_type": "code",
      "metadata": {
        "id": "gB9iea-6ZydA"
      },
      "source": [
        ""
      ],
      "execution_count": null,
      "outputs": []
    },
    {
      "cell_type": "code",
      "metadata": {
        "id": "4fBjBW--bsiW"
      },
      "source": [
        ""
      ],
      "execution_count": null,
      "outputs": []
    },
    {
      "cell_type": "markdown",
      "metadata": {
        "id": "TEokyz2Ebc4L"
      },
      "source": [
        "<img src = 'https://github.com/Ahnjihye/allinone_AI/blob/images/1_%EB%B3%80%EC%88%98.png?raw=true' width =500>"
      ]
    },
    {
      "cell_type": "code",
      "metadata": {
        "id": "HilpZz1lZyfl"
      },
      "source": [
        ""
      ],
      "execution_count": null,
      "outputs": []
    },
    {
      "cell_type": "code",
      "metadata": {
        "id": "vvsi2GkkZyiq"
      },
      "source": [
        ""
      ],
      "execution_count": null,
      "outputs": []
    },
    {
      "cell_type": "markdown",
      "metadata": {
        "id": "2RcpNUzwcQa8"
      },
      "source": [
        "### 값을 입력받아 변수에 저장하기"
      ]
    },
    {
      "cell_type": "code",
      "metadata": {
        "id": "rztiIO0QD90N"
      },
      "source": [
        ""
      ],
      "execution_count": null,
      "outputs": []
    },
    {
      "cell_type": "code",
      "metadata": {
        "id": "a3K7TwKzEFY8"
      },
      "source": [
        ""
      ],
      "execution_count": null,
      "outputs": []
    },
    {
      "cell_type": "code",
      "metadata": {
        "id": "1YGbp_m9cd4O"
      },
      "source": [
        "# 실습3\n",
        "# (아이디)님! 환영합니다 출력하기  ex. jiejie님! 환영합니다!\n",
        "\n"
      ],
      "execution_count": null,
      "outputs": []
    },
    {
      "cell_type": "code",
      "metadata": {
        "id": "twDdxVPlEFbp"
      },
      "source": [
        ""
      ],
      "execution_count": null,
      "outputs": []
    },
    {
      "cell_type": "code",
      "metadata": {
        "id": "DRSq-FmPEFgT"
      },
      "source": [
        "# 실습4\n",
        "# 비밀번호가 (비번)맞습니까? 출력하기  ex. 비밀번호가 12341234 맞습니까?\n"
      ],
      "execution_count": null,
      "outputs": []
    },
    {
      "cell_type": "code",
      "metadata": {
        "id": "v7QxAajGEFjI"
      },
      "source": [
        "# 실습5\n",
        "# 입력안내문이 '예/아니오' 인 입력칸 하나 만들기\n"
      ],
      "execution_count": null,
      "outputs": []
    },
    {
      "cell_type": "markdown",
      "metadata": {
        "id": "ZngcTLC8dg9a"
      },
      "source": [
        "### 변수를 활용하여 연산하기"
      ]
    },
    {
      "cell_type": "code",
      "metadata": {
        "id": "hxIM-SWEeFox"
      },
      "source": [
        "\n"
      ],
      "execution_count": null,
      "outputs": []
    },
    {
      "cell_type": "code",
      "metadata": {
        "id": "R9euVxjReLTp"
      },
      "source": [
        "\n"
      ],
      "execution_count": null,
      "outputs": []
    },
    {
      "cell_type": "markdown",
      "metadata": {
        "id": "NxSAnr_QeVdd"
      },
      "source": [
        "1.   첫번째 계산에서 x의 값과 두 번째 계산에서 x의 값은? \n",
        "2.   첫번째 계산에서 y의 값과 두 번째 계산에서 y의 값은? \n",
        "\n"
      ]
    },
    {
      "cell_type": "markdown",
      "metadata": {
        "id": "uNx9729qe0L8"
      },
      "source": [
        "#### **같은 이름의 변수에는 하나의 값만 넣을 수 있다.**\n",
        "#### **가장 최근에 저장된 값만 저장된다.**"
      ]
    },
    {
      "cell_type": "code",
      "metadata": {
        "id": "GCrNnMdPEFd7"
      },
      "source": [
        "\n"
      ],
      "execution_count": null,
      "outputs": []
    },
    {
      "cell_type": "code",
      "metadata": {
        "id": "tWGHKrXAfE1i"
      },
      "source": [
        "# 사과, 바나나, 키위를 모두 하나씩 구매한 가격을 \n",
        "# 변수 price에 저장하고 출력하시오\n"
      ],
      "execution_count": null,
      "outputs": []
    },
    {
      "cell_type": "code",
      "metadata": {
        "id": "GKg1WQoWdlE8"
      },
      "source": [
        "# 사과 3개, 바나나1개, 키위2개 구매한 가격을 \n",
        "# 변수 price2에 저장하고 출력하시오\n"
      ],
      "execution_count": null,
      "outputs": []
    },
    {
      "cell_type": "code",
      "metadata": {
        "id": "8n_LfWWRdlHd"
      },
      "source": [
        "# vip는 20% 할인된다. \n",
        "# vip가 price2 금액을 구매했을 때 지불하는 가격을 price_vip에 저장하고 출력하시오\n"
      ],
      "execution_count": null,
      "outputs": []
    },
    {
      "cell_type": "markdown",
      "metadata": {
        "id": "tteJ8L80dlT5"
      },
      "source": [
        "### 변수의 데이터타입 \n",
        "\n",
        "변수에 저장된 데이터에 따라 변수의 데이터타입이 결정된다.! \n",
        "\n",
        "```\n",
        "정수 int\n",
        "실수 float\n",
        "문자 str\n",
        "```\n",
        "\n"
      ]
    },
    {
      "cell_type": "code",
      "metadata": {
        "id": "gbSECaEWdlKB"
      },
      "source": [
        ""
      ],
      "execution_count": null,
      "outputs": []
    },
    {
      "cell_type": "code",
      "metadata": {
        "id": "XSLfWkPQf0dU"
      },
      "source": [
        ""
      ],
      "execution_count": null,
      "outputs": []
    },
    {
      "cell_type": "code",
      "metadata": {
        "id": "ORX7GnvQwh2T"
      },
      "source": [
        ""
      ],
      "execution_count": null,
      "outputs": []
    },
    {
      "cell_type": "code",
      "metadata": {
        "id": "ZpEmKNN5wh8r"
      },
      "source": [
        ""
      ],
      "execution_count": null,
      "outputs": []
    },
    {
      "cell_type": "markdown",
      "metadata": {
        "id": "k555yQDtwqlE"
      },
      "source": [
        "### 데이터타입 변경하기\n",
        "변경하려는 데이터타입으로 감싸주기\n",
        "\n",
        "\n",
        "```\n",
        "# 정수로 변경하기\n",
        "int(변수)\n",
        "\n",
        "# 실수로 변경하기\n",
        "float(변수)\n",
        "\n",
        "# 문자로 변경하기\n",
        "str(변수)\n",
        "```\n",
        "\n"
      ]
    },
    {
      "cell_type": "code",
      "metadata": {
        "id": "ntWPEs8gwh6Y"
      },
      "source": [
        ""
      ],
      "execution_count": null,
      "outputs": []
    },
    {
      "cell_type": "code",
      "metadata": {
        "id": "yryERNVNw-qf"
      },
      "source": [
        ""
      ],
      "execution_count": null,
      "outputs": []
    },
    {
      "cell_type": "code",
      "metadata": {
        "id": "jAgvcYidxkKV"
      },
      "source": [
        ""
      ],
      "execution_count": null,
      "outputs": []
    },
    {
      "cell_type": "code",
      "metadata": {
        "id": "5QJ6JrxixBWF"
      },
      "source": [
        ""
      ],
      "execution_count": null,
      "outputs": []
    },
    {
      "cell_type": "code",
      "metadata": {
        "id": "3Kf5OAQHxMTQ"
      },
      "source": [
        "# 실습 6\n",
        "# 입력명령어를 활용하여 점수를 입력받고 \n",
        "# 입력받은 점수를 변수 score에 저장하시오\n"
      ],
      "execution_count": null,
      "outputs": []
    },
    {
      "cell_type": "code",
      "metadata": {
        "id": "ivNTu3G8xMQG"
      },
      "source": [
        "# 실습 7\n",
        "# 변수 score의 데이터타입은 무엇일까? 예측해보자.\n",
        "# type()명령어를 활용하여 입력받은 점수의 데이터타입을 확인하시오\n"
      ],
      "execution_count": null,
      "outputs": []
    },
    {
      "cell_type": "markdown",
      "metadata": {
        "id": "x91qur2cyfPi"
      },
      "source": [
        "**input()으로 입력받은 데이터는 무조건 STR (문자)이다.**"
      ]
    },
    {
      "cell_type": "code",
      "metadata": {
        "id": "-PzhDKiWxMMy"
      },
      "source": [
        "# 실습 8\n",
        "# 위에서 입력받은 점수에 0.5을 곱하여 \n",
        "# 변수 midterm_score에 저장하시오.\n"
      ],
      "execution_count": null,
      "outputs": []
    },
    {
      "cell_type": "code",
      "metadata": {
        "id": "rI5rXTqmy5Hu"
      },
      "source": [
        "\n"
      ],
      "execution_count": null,
      "outputs": []
    },
    {
      "cell_type": "code",
      "metadata": {
        "id": "WTQXIWhLy9v9"
      },
      "source": [
        ""
      ],
      "execution_count": null,
      "outputs": []
    },
    {
      "cell_type": "code",
      "metadata": {
        "id": "CDSgxnU2zAzs"
      },
      "source": [
        ""
      ],
      "execution_count": null,
      "outputs": []
    }
  ]
}